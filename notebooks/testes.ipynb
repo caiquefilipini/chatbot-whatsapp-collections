{
 "cells": [
  {
   "cell_type": "code",
   "execution_count": 1,
   "metadata": {},
   "outputs": [],
   "source": [
    "import pandas as pd\n",
    "import sqlite3\n",
    "import os"
   ]
  },
  {
   "cell_type": "code",
   "execution_count": 2,
   "metadata": {},
   "outputs": [
    {
     "name": "stdout",
     "output_type": "stream",
     "text": [
      "[0]\n"
     ]
    }
   ],
   "source": [
    "qtd_msg = 1\n",
    "\n",
    "lista = list(range(qtd_msg))\n",
    "print(lista)"
   ]
  },
  {
   "cell_type": "code",
   "execution_count": 3,
   "metadata": {},
   "outputs": [
    {
     "name": "stdout",
     "output_type": "stream",
     "text": [
      "range(0, 1)\n"
     ]
    }
   ],
   "source": [
    "qtd_msg = 1\n",
    "\n",
    "lista = range(qtd_msg)\n",
    "print(lista)"
   ]
  },
  {
   "cell_type": "code",
   "execution_count": 4,
   "metadata": {},
   "outputs": [
    {
     "name": "stdout",
     "output_type": "stream",
     "text": [
      "posição 3\n",
      "indice 1\n",
      "posição 2\n",
      "indice 2\n",
      "posição 1\n",
      "indice 3\n",
      "posição 0\n",
      "indice 4\n"
     ]
    }
   ],
   "source": [
    "qtd_msg = 4\n",
    "lista = list(range(qtd_msg - 1, -1, -1))\n",
    "for p, i in enumerate(lista):\n",
    "    print(\"posição\", i)\n",
    "    print(\"indice\", p+1)\n",
    "    "
   ]
  },
  {
   "cell_type": "code",
   "execution_count": 5,
   "metadata": {},
   "outputs": [],
   "source": [
    "base_clientes = pd.read_csv('../data/base_clientes.csv')"
   ]
  },
  {
   "cell_type": "code",
   "execution_count": 6,
   "metadata": {},
   "outputs": [
    {
     "data": {
      "text/html": [
       "<div>\n",
       "<style scoped>\n",
       "    .dataframe tbody tr th:only-of-type {\n",
       "        vertical-align: middle;\n",
       "    }\n",
       "\n",
       "    .dataframe tbody tr th {\n",
       "        vertical-align: top;\n",
       "    }\n",
       "\n",
       "    .dataframe thead th {\n",
       "        text-align: right;\n",
       "    }\n",
       "</style>\n",
       "<table border=\"1\" class=\"dataframe\">\n",
       "  <thead>\n",
       "    <tr style=\"text-align: right;\">\n",
       "      <th></th>\n",
       "      <th>cpf</th>\n",
       "      <th>nome</th>\n",
       "      <th>segmento</th>\n",
       "      <th>qtd_cont</th>\n",
       "      <th>vlr_total_div</th>\n",
       "      <th>max_dias_atraso</th>\n",
       "    </tr>\n",
       "  </thead>\n",
       "  <tbody>\n",
       "    <tr>\n",
       "      <th>0</th>\n",
       "      <td>42006925890</td>\n",
       "      <td>Bryan Campos</td>\n",
       "      <td>Van Gogh</td>\n",
       "      <td>10</td>\n",
       "      <td>5000</td>\n",
       "      <td>60</td>\n",
       "    </tr>\n",
       "    <tr>\n",
       "      <th>1</th>\n",
       "      <td>34366343878</td>\n",
       "      <td>Juan Moura</td>\n",
       "      <td>Private</td>\n",
       "      <td>5</td>\n",
       "      <td>2000</td>\n",
       "      <td>30</td>\n",
       "    </tr>\n",
       "    <tr>\n",
       "      <th>2</th>\n",
       "      <td>72388905850</td>\n",
       "      <td>Ana Sophia da Cruz</td>\n",
       "      <td>Van Gogh</td>\n",
       "      <td>1</td>\n",
       "      <td>2293</td>\n",
       "      <td>28</td>\n",
       "    </tr>\n",
       "    <tr>\n",
       "      <th>3</th>\n",
       "      <td>85044167398</td>\n",
       "      <td>Marina Moraes</td>\n",
       "      <td>Especial</td>\n",
       "      <td>7</td>\n",
       "      <td>2685</td>\n",
       "      <td>42</td>\n",
       "    </tr>\n",
       "    <tr>\n",
       "      <th>4</th>\n",
       "      <td>86406862031</td>\n",
       "      <td>Marcos Vinicius Cardoso</td>\n",
       "      <td>Van Gogh</td>\n",
       "      <td>13</td>\n",
       "      <td>9173</td>\n",
       "      <td>50</td>\n",
       "    </tr>\n",
       "  </tbody>\n",
       "</table>\n",
       "</div>"
      ],
      "text/plain": [
       "           cpf                     nome  segmento  qtd_cont  vlr_total_div  \\\n",
       "0  42006925890             Bryan Campos  Van Gogh        10           5000   \n",
       "1  34366343878               Juan Moura   Private         5           2000   \n",
       "2  72388905850       Ana Sophia da Cruz  Van Gogh         1           2293   \n",
       "3  85044167398            Marina Moraes  Especial         7           2685   \n",
       "4  86406862031  Marcos Vinicius Cardoso  Van Gogh        13           9173   \n",
       "\n",
       "   max_dias_atraso  \n",
       "0               60  \n",
       "1               30  \n",
       "2               28  \n",
       "3               42  \n",
       "4               50  "
      ]
     },
     "execution_count": 6,
     "metadata": {},
     "output_type": "execute_result"
    }
   ],
   "source": [
    "base_clientes.head()"
   ]
  },
  {
   "cell_type": "code",
   "execution_count": 7,
   "metadata": {},
   "outputs": [],
   "source": [
    "# Especificar o caminho para o diretório onde o banco de dados está localizado\n",
    "path = \"../data/\"\n",
    "\n",
    "# Especificar o valor do CPF como uma string entre aspas simples\n",
    "cpf_value = 42006925890\n",
    "query = f\"SELECT * FROM customer_database_table WHERE cpf = '{cpf_value}'\"\n",
    "\n",
    "# Usar a declaração `with` para gerenciar a conexão ao banco de dados SQLite\n",
    "with sqlite3.connect(os.path.join(path, 'customer_database.sqlite')) as conn:\n",
    "    # Executar a consulta SQL e ler o resultado em um DataFrame do pandas\n",
    "    base = pd.read_sql_query(query, conn)"
   ]
  },
  {
   "cell_type": "code",
   "execution_count": 8,
   "metadata": {},
   "outputs": [
    {
     "data": {
      "text/html": [
       "<div>\n",
       "<style scoped>\n",
       "    .dataframe tbody tr th:only-of-type {\n",
       "        vertical-align: middle;\n",
       "    }\n",
       "\n",
       "    .dataframe tbody tr th {\n",
       "        vertical-align: top;\n",
       "    }\n",
       "\n",
       "    .dataframe thead th {\n",
       "        text-align: right;\n",
       "    }\n",
       "</style>\n",
       "<table border=\"1\" class=\"dataframe\">\n",
       "  <thead>\n",
       "    <tr style=\"text-align: right;\">\n",
       "      <th></th>\n",
       "      <th>cpf</th>\n",
       "      <th>nome</th>\n",
       "      <th>segmento</th>\n",
       "      <th>qtd_cont</th>\n",
       "      <th>vlr_total_div</th>\n",
       "      <th>max_dias_atraso</th>\n",
       "    </tr>\n",
       "  </thead>\n",
       "  <tbody>\n",
       "    <tr>\n",
       "      <th>0</th>\n",
       "      <td>42006925890</td>\n",
       "      <td>Bryan Campos</td>\n",
       "      <td>Van Gogh</td>\n",
       "      <td>10</td>\n",
       "      <td>5000</td>\n",
       "      <td>60</td>\n",
       "    </tr>\n",
       "  </tbody>\n",
       "</table>\n",
       "</div>"
      ],
      "text/plain": [
       "           cpf          nome  segmento  qtd_cont  vlr_total_div  \\\n",
       "0  42006925890  Bryan Campos  Van Gogh        10           5000   \n",
       "\n",
       "   max_dias_atraso  \n",
       "0               60  "
      ]
     },
     "execution_count": 8,
     "metadata": {},
     "output_type": "execute_result"
    }
   ],
   "source": [
    "base.head()"
   ]
  },
  {
   "cell_type": "code",
   "execution_count": 9,
   "metadata": {},
   "outputs": [
    {
     "data": {
      "text/plain": [
       "array(['Bryan Campos'], dtype=object)"
      ]
     },
     "execution_count": 9,
     "metadata": {},
     "output_type": "execute_result"
    }
   ],
   "source": [
    "base[\"nome\"].values"
   ]
  },
  {
   "cell_type": "code",
   "execution_count": 14,
   "metadata": {},
   "outputs": [],
   "source": [
    "from pymongo import MongoClient"
   ]
  },
  {
   "cell_type": "code",
   "execution_count": 17,
   "metadata": {},
   "outputs": [],
   "source": [
    "client = MongoClient('mongodb://localhost:27017/', serverSelectionTimeoutMS=5000)"
   ]
  },
  {
   "cell_type": "code",
   "execution_count": 20,
   "metadata": {},
   "outputs": [
    {
     "data": {
      "text/plain": [
       "MongoClient(host=['localhost:27017'], document_class=dict, tz_aware=False, connect=True, serverselectiontimeoutms=5000)"
      ]
     },
     "execution_count": 20,
     "metadata": {},
     "output_type": "execute_result"
    }
   ],
   "source": [
    "client"
   ]
  },
  {
   "cell_type": "code",
   "execution_count": 18,
   "metadata": {},
   "outputs": [],
   "source": [
    "def conectar_mongo():\n",
    "    try:\n",
    "        client = MongoClient('mongodb://localhost:27017/', serverSelectionTimeoutMS=5000)\n",
    "        client.server_info()  # Gera uma exceção se não conseguir conectar\n",
    "        print(\"Conexão com MongoDB bem-sucedida.\")\n",
    "        if client:\n",
    "            db = client['meu_banco_de_dados']\n",
    "            collection = db['clientes_conversas']\n",
    "        return client, db, collection\n",
    "    except Exception as e:\n",
    "        print(f\"Erro ao conectar ao MongoDB: {e}\")\n",
    "        return None"
   ]
  },
  {
   "cell_type": "code",
   "execution_count": 19,
   "metadata": {},
   "outputs": [
    {
     "name": "stdout",
     "output_type": "stream",
     "text": [
      "Erro ao conectar ao MongoDB: localhost:27017: [WinError 10061] Nenhuma conexão pôde ser feita porque a máquina de destino as recusou ativamente (configured timeouts: socketTimeoutMS: 20000.0ms, connectTimeoutMS: 20000.0ms), Timeout: 5.0s, Topology Description: <TopologyDescription id: 667c35440f2a7d5a65d143e1, topology_type: Unknown, servers: [<ServerDescription ('localhost', 27017) server_type: Unknown, rtt: None, error=AutoReconnect('localhost:27017: [WinError 10061] Nenhuma conexão pôde ser feita porque a máquina de destino as recusou ativamente (configured timeouts: socketTimeoutMS: 20000.0ms, connectTimeoutMS: 20000.0ms)')>]>\n"
     ]
    },
    {
     "ename": "TypeError",
     "evalue": "cannot unpack non-iterable NoneType object",
     "output_type": "error",
     "traceback": [
      "\u001b[1;31m---------------------------------------------------------------------------\u001b[0m",
      "\u001b[1;31mTypeError\u001b[0m                                 Traceback (most recent call last)",
      "Cell \u001b[1;32mIn[19], line 1\u001b[0m\n\u001b[1;32m----> 1\u001b[0m client, db, collection \u001b[38;5;241m=\u001b[39m conectar_mongo() \u001b[38;5;66;03m# Conectar ao banco de dados\u001b[39;00m\n",
      "\u001b[1;31mTypeError\u001b[0m: cannot unpack non-iterable NoneType object"
     ]
    }
   ],
   "source": [
    "client, db, collection = conectar_mongo() # Conectar ao banco de dados"
   ]
  },
  {
   "cell_type": "code",
   "execution_count": null,
   "metadata": {},
   "outputs": [],
   "source": [
    "import json\n",
    "from bson import ObjectId"
   ]
  },
  {
   "cell_type": "code",
   "execution_count": 52,
   "metadata": {},
   "outputs": [],
   "source": [
    "# Função personalizada para serializar ObjectId\n",
    "class JSONEncoder(json.JSONEncoder):\n",
    "    def default(self, obj):\n",
    "        if isinstance(obj, ObjectId):\n",
    "            return str(obj)\n",
    "        return json.JSONEncoder.default(self, obj)"
   ]
  },
  {
   "cell_type": "code",
   "execution_count": 136,
   "metadata": {},
   "outputs": [],
   "source": [
    "def formatar_json(documento):\n",
    "    return json.dumps(documento, indent=4, ensure_ascii=False, cls=JSONEncoder)"
   ]
  },
  {
   "cell_type": "code",
   "execution_count": 137,
   "metadata": {},
   "outputs": [],
   "source": [
    "# Consultar todos os documentos na coleção\n",
    "def consultar_todos():\n",
    "    documentos = collection.find()\n",
    "    for doc in documentos:\n",
    "        print(formatar_json(doc))\n",
    "\n",
    "# Consultar documentos com uma condição\n",
    "def consultar_condicao(cpf):\n",
    "    documento = collection.find_one({\"cpf\": cpf})\n",
    "    if documento:\n",
    "        formatar_json(documento)\n",
    "    else:\n",
    "        print(f\"Nenhum documento encontrado para o CPF {cpf}\")"
   ]
  },
  {
   "cell_type": "code",
   "execution_count": 173,
   "metadata": {},
   "outputs": [],
   "source": [
    "def inserir_cliente(cpf, dados_cliente, dados_oferta, assunto, dt_hr_ini):\n",
    "    cliente = collection.find_one({\"cpf\": cpf})\n",
    "    # Inserir novo cliente se não existir\n",
    "    if not cliente:\n",
    "        collection.insert_one({\n",
    "            \"cpf\": cpf,\n",
    "            # \"dados_cliente\": dados_cliente,\n",
    "            # \"dados_oferta\": dados_oferta,\n",
    "            \"conversas\": [\n",
    "                {\n",
    "                    \"assunto\": assunto,\n",
    "                    \"chats\": [\n",
    "                        {\n",
    "                            \"data_hora_inicio\": dt_hr_ini,\n",
    "                            # \"mensagens\": []\n",
    "                        }\n",
    "                    ]\n",
    "                }\n",
    "            ]\n",
    "        })\n",
    "    else:\n",
    "        # Inserir nova conversa caso o cliente já existir na base\n",
    "        assunto_existe = collection.find_one({\"cpf\": cpf, \"conversas.assunto\": assunto})\n",
    "        if not assunto_existe:\n",
    "            print(\"assunto novo\")\n",
    "            # Adicionar um novo assunto com o chat inicial\n",
    "            collection.update_one(\n",
    "                {\"cpf\": cpf},\n",
    "                {\"$push\": {\n",
    "                    \"conversas\": {\n",
    "                        \"assunto\": assunto,\n",
    "                        \"chats\": [\n",
    "                            {\n",
    "                                \"data_hora_inicio\": dt_hr_ini,\n",
    "                                \"mensagens\": []\n",
    "                            }\n",
    "                        ]\n",
    "                    }\n",
    "                }}\n",
    "            )\n",
    "        else:\n",
    "            # Adicionar um novo chat ao assunto existente\n",
    "            collection.update_one(\n",
    "                {\"cpf\": cpf, \"conversas.assunto\": assunto},\n",
    "                {\"$push\": {\n",
    "                    \"conversas.$.chats\": {\n",
    "                        \"data_hora_inicio\": dt_hr_ini,\n",
    "                        \"mensagens\": []\n",
    "                    }\n",
    "                }}\n",
    "            )\n"
   ]
  },
  {
   "cell_type": "code",
   "execution_count": 178,
   "metadata": {},
   "outputs": [],
   "source": [
    "cpf = 34343434343\n",
    "assunto = \"Reclamação\"\n",
    "dt_hr_ini = \"2024-06-27\""
   ]
  },
  {
   "cell_type": "code",
   "execution_count": 179,
   "metadata": {},
   "outputs": [],
   "source": [
    "dados_cliente = {\n",
    "    \"nome\": \"João da Silva\",\n",
    "    \"email\": \"caique@gmail.com\",\n",
    "    \"telefone\": \"11999999999\"\n",
    "}"
   ]
  },
  {
   "cell_type": "code",
   "execution_count": 180,
   "metadata": {},
   "outputs": [],
   "source": [
    "dados_oferta = {\n",
    "    \"data_ref\": \"2024-06-27\",\n",
    "    \"produto\": \"Smartphone\",\n",
    "    \"preco\": 1500.00,\n",
    "    \"desconto\": 100.00\n",
    "}"
   ]
  },
  {
   "cell_type": "code",
   "execution_count": 185,
   "metadata": {},
   "outputs": [],
   "source": [
    "inserir_cliente(cpf, dados_cliente, dados_oferta, assunto, dt_hr_ini)"
   ]
  },
  {
   "cell_type": "code",
   "execution_count": 186,
   "metadata": {},
   "outputs": [
    {
     "name": "stdout",
     "output_type": "stream",
     "text": [
      "{\n",
      "    \"_id\": \"66771c88b59999d3c1c2f55f\",\n",
      "    \"cpf\": 34343434343,\n",
      "    \"dados_cliente\": {\n",
      "        \"nome\": \"João da Silva\",\n",
      "        \"email\": \"caique@gmail.com\",\n",
      "        \"telefone\": \"11999999999\"\n",
      "    },\n",
      "    \"dados_oferta\": {\n",
      "        \"data_ref\": \"2024-06-27\",\n",
      "        \"produto\": \"Smartphone\",\n",
      "        \"preco\": 1500.0,\n",
      "        \"desconto\": 100.0\n",
      "    },\n",
      "    \"conversas\": [\n",
      "        {\n",
      "            \"assunto\": \"Reclamação\",\n",
      "            \"chats\": [\n",
      "                {\n",
      "                    \"data_hora_inicio\": \"2024-06-27\"\n",
      "                }\n",
      "            ]\n",
      "        }\n",
      "    ]\n",
      "}\n"
     ]
    }
   ],
   "source": [
    "consultar_todos()\n",
    "# consultar_condicao(42006925890)"
   ]
  },
  {
   "cell_type": "code",
   "execution_count": 183,
   "metadata": {},
   "outputs": [
    {
     "data": {
      "text/plain": [
       "DeleteResult({'n': 1, 'ok': 1.0}, acknowledged=True)"
      ]
     },
     "execution_count": 183,
     "metadata": {},
     "output_type": "execute_result"
    }
   ],
   "source": [
    "collection.delete_many({})"
   ]
  },
  {
   "cell_type": "code",
   "execution_count": 191,
   "metadata": {},
   "outputs": [],
   "source": [
    "def inserir_mensagem(cpf, assunto, dt_hr_ini, dict_mensagem):\n",
    "    client, db, collection = conectar_mongo()  # Conectar ao banco de dados\n",
    "    collection.update_one(\n",
    "        {\"cpf\": cpf},\n",
    "        {\"$push\": {\"conversas.$[conversa].chats.$[chat].mensagens\": dict_mensagem}},\n",
    "        array_filters=[\n",
    "            {\"conversa.assunto\": assunto},\n",
    "            {\"chat.data_hora_inicio\": dt_hr_ini}\n",
    "        ]\n",
    "    )"
   ]
  },
  {
   "cell_type": "code",
   "execution_count": 195,
   "metadata": {},
   "outputs": [],
   "source": [
    "dict_mensagem = {\n",
    "    \"id\": 1,\n",
    "    \"data_hora\": \"2024-06-27 10:30:00\",\n",
    "    \"mensagem_cliente\": \"Iphone 24\",\n",
    "    \"sugestao_ia\": \"Esse produto não existe\",\n",
    "    \"rating_sugestao_ia\": 4,\n",
    "    \"resposta_final_operador\": \"Sr. João, o produto correto é o Iphone 15\",\n",
    "}"
   ]
  },
  {
   "cell_type": "code",
   "execution_count": 196,
   "metadata": {},
   "outputs": [
    {
     "name": "stdout",
     "output_type": "stream",
     "text": [
      "Conexão com MongoDB bem-sucedida.\n"
     ]
    }
   ],
   "source": [
    "inserir_mensagem(cpf, assunto, dt_hr_ini, dict_mensagem)"
   ]
  },
  {
   "cell_type": "code",
   "execution_count": 197,
   "metadata": {},
   "outputs": [
    {
     "name": "stdout",
     "output_type": "stream",
     "text": [
      "{\n",
      "    \"_id\": \"66771c88b59999d3c1c2f55f\",\n",
      "    \"cpf\": 34343434343,\n",
      "    \"dados_cliente\": {\n",
      "        \"nome\": \"João da Silva\",\n",
      "        \"email\": \"caique@gmail.com\",\n",
      "        \"telefone\": \"11999999999\"\n",
      "    },\n",
      "    \"dados_oferta\": {\n",
      "        \"data_ref\": \"2024-06-27\",\n",
      "        \"produto\": \"Smartphone\",\n",
      "        \"preco\": 1500.0,\n",
      "        \"desconto\": 100.0\n",
      "    },\n",
      "    \"conversas\": [\n",
      "        {\n",
      "            \"assunto\": \"Reclamação\",\n",
      "            \"chats\": [\n",
      "                {\n",
      "                    \"data_hora_inicio\": \"2024-06-27\",\n",
      "                    \"mensagens\": [\n",
      "                        {\n",
      "                            \"id\": 1,\n",
      "                            \"data_hora\": \"2024-06-27 10:00:00\",\n",
      "                            \"mensagem_cliente\": \"Olá, gostaria de saber mais sobre o produto.\",\n",
      "                            \"sugestao_ia\": \"Qual produto, Sr. João?\",\n",
      "                            \"rating_sugestao_ia\": 5,\n",
      "                            \"resposta_final_operador\": \"Sobre qual produto o Sr gostaria de saber mais?\"\n",
      "                        },\n",
      "                        {\n",
      "                            \"id\": 1,\n",
      "                            \"data_hora\": \"2024-06-27 10:30:00\",\n",
      "                            \"mensagem_cliente\": \"Iphone 24\",\n",
      "                            \"sugestao_ia\": \"Esse produto não existe\",\n",
      "                            \"rating_sugestao_ia\": 4,\n",
      "                            \"resposta_final_operador\": \"Sr. João, o produto correto é o Iphone 15\"\n",
      "                        }\n",
      "                    ]\n",
      "                }\n",
      "            ]\n",
      "        }\n",
      "    ]\n",
      "}\n"
     ]
    }
   ],
   "source": [
    "consultar_todos()"
   ]
  },
  {
   "cell_type": "markdown",
   "metadata": {},
   "source": [
    "### Verificando se deu certo o armazenamento no código original"
   ]
  },
  {
   "cell_type": "code",
   "execution_count": null,
   "metadata": {},
   "outputs": [],
   "source": []
  }
 ],
 "metadata": {
  "kernelspec": {
   "display_name": "Python 3",
   "language": "python",
   "name": "python3"
  },
  "language_info": {
   "codemirror_mode": {
    "name": "ipython",
    "version": 3
   },
   "file_extension": ".py",
   "mimetype": "text/x-python",
   "name": "python",
   "nbconvert_exporter": "python",
   "pygments_lexer": "ipython3",
   "version": "3.12.3"
  }
 },
 "nbformat": 4,
 "nbformat_minor": 2
}
