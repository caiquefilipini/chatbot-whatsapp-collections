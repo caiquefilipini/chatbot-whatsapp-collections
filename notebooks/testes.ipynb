{
 "cells": [
  {
   "cell_type": "code",
   "execution_count": 5,
   "metadata": {},
   "outputs": [],
   "source": [
    "import pandas as pd\n",
    "import sqlite3\n",
    "import os"
   ]
  },
  {
   "cell_type": "code",
   "execution_count": 1,
   "metadata": {},
   "outputs": [
    {
     "name": "stdout",
     "output_type": "stream",
     "text": [
      "[0]\n"
     ]
    }
   ],
   "source": [
    "qtd_msg = 1\n",
    "\n",
    "lista = list(range(qtd_msg))\n",
    "print(lista)"
   ]
  },
  {
   "cell_type": "code",
   "execution_count": 2,
   "metadata": {},
   "outputs": [
    {
     "name": "stdout",
     "output_type": "stream",
     "text": [
      "range(0, 1)\n"
     ]
    }
   ],
   "source": [
    "qtd_msg = 1\n",
    "\n",
    "lista = range(qtd_msg)\n",
    "print(lista)"
   ]
  },
  {
   "cell_type": "code",
   "execution_count": 3,
   "metadata": {},
   "outputs": [
    {
     "name": "stdout",
     "output_type": "stream",
     "text": [
      "posição 3\n",
      "indice 1\n",
      "posição 2\n",
      "indice 2\n",
      "posição 1\n",
      "indice 3\n",
      "posição 0\n",
      "indice 4\n"
     ]
    }
   ],
   "source": [
    "qtd_msg = 4\n",
    "lista = list(range(qtd_msg - 1, -1, -1))\n",
    "for p, i in enumerate(lista):\n",
    "    print(\"posição\", i)\n",
    "    print(\"indice\", p+1)\n",
    "    "
   ]
  },
  {
   "cell_type": "code",
   "execution_count": 6,
   "metadata": {},
   "outputs": [],
   "source": [
    "base_clientes = pd.read_csv('../data/base_clientes.csv')"
   ]
  },
  {
   "cell_type": "code",
   "execution_count": 7,
   "metadata": {},
   "outputs": [
    {
     "data": {
      "text/html": [
       "<div>\n",
       "<style scoped>\n",
       "    .dataframe tbody tr th:only-of-type {\n",
       "        vertical-align: middle;\n",
       "    }\n",
       "\n",
       "    .dataframe tbody tr th {\n",
       "        vertical-align: top;\n",
       "    }\n",
       "\n",
       "    .dataframe thead th {\n",
       "        text-align: right;\n",
       "    }\n",
       "</style>\n",
       "<table border=\"1\" class=\"dataframe\">\n",
       "  <thead>\n",
       "    <tr style=\"text-align: right;\">\n",
       "      <th></th>\n",
       "      <th>cpf</th>\n",
       "      <th>nome</th>\n",
       "      <th>segmento</th>\n",
       "      <th>qtd_cont</th>\n",
       "      <th>vlr_total_div</th>\n",
       "      <th>max_dias_atraso</th>\n",
       "    </tr>\n",
       "  </thead>\n",
       "  <tbody>\n",
       "    <tr>\n",
       "      <th>0</th>\n",
       "      <td>42006925890</td>\n",
       "      <td>Bryan Campos</td>\n",
       "      <td>Van Gogh</td>\n",
       "      <td>10</td>\n",
       "      <td>5000</td>\n",
       "      <td>60</td>\n",
       "    </tr>\n",
       "    <tr>\n",
       "      <th>1</th>\n",
       "      <td>34366343878</td>\n",
       "      <td>Juan Moura</td>\n",
       "      <td>Private</td>\n",
       "      <td>5</td>\n",
       "      <td>2000</td>\n",
       "      <td>30</td>\n",
       "    </tr>\n",
       "    <tr>\n",
       "      <th>2</th>\n",
       "      <td>72388905850</td>\n",
       "      <td>Ana Sophia da Cruz</td>\n",
       "      <td>Van Gogh</td>\n",
       "      <td>1</td>\n",
       "      <td>2293</td>\n",
       "      <td>28</td>\n",
       "    </tr>\n",
       "    <tr>\n",
       "      <th>3</th>\n",
       "      <td>85044167398</td>\n",
       "      <td>Marina Moraes</td>\n",
       "      <td>Especial</td>\n",
       "      <td>7</td>\n",
       "      <td>2685</td>\n",
       "      <td>42</td>\n",
       "    </tr>\n",
       "    <tr>\n",
       "      <th>4</th>\n",
       "      <td>86406862031</td>\n",
       "      <td>Marcos Vinicius Cardoso</td>\n",
       "      <td>Van Gogh</td>\n",
       "      <td>13</td>\n",
       "      <td>9173</td>\n",
       "      <td>50</td>\n",
       "    </tr>\n",
       "  </tbody>\n",
       "</table>\n",
       "</div>"
      ],
      "text/plain": [
       "           cpf                     nome  segmento  qtd_cont  vlr_total_div  \\\n",
       "0  42006925890             Bryan Campos  Van Gogh        10           5000   \n",
       "1  34366343878               Juan Moura   Private         5           2000   \n",
       "2  72388905850       Ana Sophia da Cruz  Van Gogh         1           2293   \n",
       "3  85044167398            Marina Moraes  Especial         7           2685   \n",
       "4  86406862031  Marcos Vinicius Cardoso  Van Gogh        13           9173   \n",
       "\n",
       "   max_dias_atraso  \n",
       "0               60  \n",
       "1               30  \n",
       "2               28  \n",
       "3               42  \n",
       "4               50  "
      ]
     },
     "execution_count": 7,
     "metadata": {},
     "output_type": "execute_result"
    }
   ],
   "source": [
    "base_clientes.head()"
   ]
  },
  {
   "cell_type": "code",
   "execution_count": 9,
   "metadata": {},
   "outputs": [],
   "source": [
    "# Especificar o caminho para o diretório onde o banco de dados está localizado\n",
    "path = \"../data/\"\n",
    "\n",
    "# Especificar o valor do CPF como uma string entre aspas simples\n",
    "cpf_value = 42006925890\n",
    "query = f\"SELECT * FROM customer_database_table WHERE cpf = '{cpf_value}'\"\n",
    "\n",
    "# Usar a declaração `with` para gerenciar a conexão ao banco de dados SQLite\n",
    "with sqlite3.connect(os.path.join(path, 'customer_database.sqlite')) as conn:\n",
    "    # Executar a consulta SQL e ler o resultado em um DataFrame do pandas\n",
    "    base = pd.read_sql_query(query, conn)"
   ]
  },
  {
   "cell_type": "code",
   "execution_count": 10,
   "metadata": {},
   "outputs": [
    {
     "data": {
      "text/html": [
       "<div>\n",
       "<style scoped>\n",
       "    .dataframe tbody tr th:only-of-type {\n",
       "        vertical-align: middle;\n",
       "    }\n",
       "\n",
       "    .dataframe tbody tr th {\n",
       "        vertical-align: top;\n",
       "    }\n",
       "\n",
       "    .dataframe thead th {\n",
       "        text-align: right;\n",
       "    }\n",
       "</style>\n",
       "<table border=\"1\" class=\"dataframe\">\n",
       "  <thead>\n",
       "    <tr style=\"text-align: right;\">\n",
       "      <th></th>\n",
       "      <th>cpf</th>\n",
       "      <th>nome</th>\n",
       "      <th>segmento</th>\n",
       "      <th>qtd_cont</th>\n",
       "      <th>vlr_total_div</th>\n",
       "      <th>max_dias_atraso</th>\n",
       "    </tr>\n",
       "  </thead>\n",
       "  <tbody>\n",
       "    <tr>\n",
       "      <th>0</th>\n",
       "      <td>42006925890</td>\n",
       "      <td>Bryan Campos</td>\n",
       "      <td>Van Gogh</td>\n",
       "      <td>10</td>\n",
       "      <td>5000</td>\n",
       "      <td>60</td>\n",
       "    </tr>\n",
       "  </tbody>\n",
       "</table>\n",
       "</div>"
      ],
      "text/plain": [
       "           cpf          nome  segmento  qtd_cont  vlr_total_div  \\\n",
       "0  42006925890  Bryan Campos  Van Gogh        10           5000   \n",
       "\n",
       "   max_dias_atraso  \n",
       "0               60  "
      ]
     },
     "execution_count": 10,
     "metadata": {},
     "output_type": "execute_result"
    }
   ],
   "source": [
    "base.head()"
   ]
  },
  {
   "cell_type": "code",
   "execution_count": 15,
   "metadata": {},
   "outputs": [
    {
     "data": {
      "text/plain": [
       "array(['Bryan Campos'], dtype=object)"
      ]
     },
     "execution_count": 15,
     "metadata": {},
     "output_type": "execute_result"
    }
   ],
   "source": [
    "base[\"nome\"].values"
   ]
  },
  {
   "cell_type": "code",
   "execution_count": null,
   "metadata": {},
   "outputs": [],
   "source": []
  }
 ],
 "metadata": {
  "kernelspec": {
   "display_name": "Python 3",
   "language": "python",
   "name": "python3"
  },
  "language_info": {
   "codemirror_mode": {
    "name": "ipython",
    "version": 3
   },
   "file_extension": ".py",
   "mimetype": "text/x-python",
   "name": "python",
   "nbconvert_exporter": "python",
   "pygments_lexer": "ipython3",
   "version": "3.12.3"
  }
 },
 "nbformat": 4,
 "nbformat_minor": 2
}
