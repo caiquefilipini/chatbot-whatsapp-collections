{
 "cells": [
  {
   "cell_type": "code",
   "execution_count": 1,
   "metadata": {},
   "outputs": [],
   "source": [
    "import pandas as pd\n",
    "import sqlite3\n",
    "import os"
   ]
  },
  {
   "cell_type": "code",
   "execution_count": 2,
   "metadata": {},
   "outputs": [
    {
     "name": "stdout",
     "output_type": "stream",
     "text": [
      "[0]\n"
     ]
    }
   ],
   "source": [
    "qtd_msg = 1\n",
    "\n",
    "lista = list(range(qtd_msg))\n",
    "print(lista)"
   ]
  },
  {
   "cell_type": "code",
   "execution_count": 3,
   "metadata": {},
   "outputs": [
    {
     "name": "stdout",
     "output_type": "stream",
     "text": [
      "range(0, 1)\n"
     ]
    }
   ],
   "source": [
    "qtd_msg = 1\n",
    "\n",
    "lista = range(qtd_msg)\n",
    "print(lista)"
   ]
  },
  {
   "cell_type": "code",
   "execution_count": 4,
   "metadata": {},
   "outputs": [
    {
     "name": "stdout",
     "output_type": "stream",
     "text": [
      "posição 3\n",
      "indice 1\n",
      "posição 2\n",
      "indice 2\n",
      "posição 1\n",
      "indice 3\n",
      "posição 0\n",
      "indice 4\n"
     ]
    }
   ],
   "source": [
    "qtd_msg = 4\n",
    "lista = list(range(qtd_msg - 1, -1, -1))\n",
    "for p, i in enumerate(lista):\n",
    "    print(\"posição\", i)\n",
    "    print(\"indice\", p+1)\n",
    "    "
   ]
  },
  {
   "cell_type": "code",
   "execution_count": 5,
   "metadata": {},
   "outputs": [],
   "source": [
    "base_clientes = pd.read_csv('../data/base_clientes.csv')"
   ]
  },
  {
   "cell_type": "code",
   "execution_count": 6,
   "metadata": {},
   "outputs": [
    {
     "data": {
      "text/html": [
       "<div>\n",
       "<style scoped>\n",
       "    .dataframe tbody tr th:only-of-type {\n",
       "        vertical-align: middle;\n",
       "    }\n",
       "\n",
       "    .dataframe tbody tr th {\n",
       "        vertical-align: top;\n",
       "    }\n",
       "\n",
       "    .dataframe thead th {\n",
       "        text-align: right;\n",
       "    }\n",
       "</style>\n",
       "<table border=\"1\" class=\"dataframe\">\n",
       "  <thead>\n",
       "    <tr style=\"text-align: right;\">\n",
       "      <th></th>\n",
       "      <th>cpf</th>\n",
       "      <th>nome</th>\n",
       "      <th>segmento</th>\n",
       "      <th>qtd_cont</th>\n",
       "      <th>vlr_total_div</th>\n",
       "      <th>max_dias_atraso</th>\n",
       "    </tr>\n",
       "  </thead>\n",
       "  <tbody>\n",
       "    <tr>\n",
       "      <th>0</th>\n",
       "      <td>42006925890</td>\n",
       "      <td>Bryan Campos</td>\n",
       "      <td>Van Gogh</td>\n",
       "      <td>10</td>\n",
       "      <td>5000</td>\n",
       "      <td>60</td>\n",
       "    </tr>\n",
       "    <tr>\n",
       "      <th>1</th>\n",
       "      <td>34366343878</td>\n",
       "      <td>Juan Moura</td>\n",
       "      <td>Private</td>\n",
       "      <td>5</td>\n",
       "      <td>2000</td>\n",
       "      <td>30</td>\n",
       "    </tr>\n",
       "    <tr>\n",
       "      <th>2</th>\n",
       "      <td>72388905850</td>\n",
       "      <td>Ana Sophia da Cruz</td>\n",
       "      <td>Van Gogh</td>\n",
       "      <td>1</td>\n",
       "      <td>2293</td>\n",
       "      <td>28</td>\n",
       "    </tr>\n",
       "    <tr>\n",
       "      <th>3</th>\n",
       "      <td>85044167398</td>\n",
       "      <td>Marina Moraes</td>\n",
       "      <td>Especial</td>\n",
       "      <td>7</td>\n",
       "      <td>2685</td>\n",
       "      <td>42</td>\n",
       "    </tr>\n",
       "    <tr>\n",
       "      <th>4</th>\n",
       "      <td>86406862031</td>\n",
       "      <td>Marcos Vinicius Cardoso</td>\n",
       "      <td>Van Gogh</td>\n",
       "      <td>13</td>\n",
       "      <td>9173</td>\n",
       "      <td>50</td>\n",
       "    </tr>\n",
       "  </tbody>\n",
       "</table>\n",
       "</div>"
      ],
      "text/plain": [
       "           cpf                     nome  segmento  qtd_cont  vlr_total_div  \\\n",
       "0  42006925890             Bryan Campos  Van Gogh        10           5000   \n",
       "1  34366343878               Juan Moura   Private         5           2000   \n",
       "2  72388905850       Ana Sophia da Cruz  Van Gogh         1           2293   \n",
       "3  85044167398            Marina Moraes  Especial         7           2685   \n",
       "4  86406862031  Marcos Vinicius Cardoso  Van Gogh        13           9173   \n",
       "\n",
       "   max_dias_atraso  \n",
       "0               60  \n",
       "1               30  \n",
       "2               28  \n",
       "3               42  \n",
       "4               50  "
      ]
     },
     "execution_count": 6,
     "metadata": {},
     "output_type": "execute_result"
    }
   ],
   "source": [
    "base_clientes.head()"
   ]
  },
  {
   "cell_type": "code",
   "execution_count": 7,
   "metadata": {},
   "outputs": [],
   "source": [
    "# Especificar o caminho para o diretório onde o banco de dados está localizado\n",
    "path = \"../data/\"\n",
    "\n",
    "# Especificar o valor do CPF como uma string entre aspas simples\n",
    "cpf_value = 42006925890\n",
    "query = f\"SELECT * FROM customer_database_table WHERE cpf = '{cpf_value}'\"\n",
    "\n",
    "# Usar a declaração `with` para gerenciar a conexão ao banco de dados SQLite\n",
    "with sqlite3.connect(os.path.join(path, 'customer_database.sqlite')) as conn:\n",
    "    # Executar a consulta SQL e ler o resultado em um DataFrame do pandas\n",
    "    base = pd.read_sql_query(query, conn)"
   ]
  },
  {
   "cell_type": "code",
   "execution_count": 8,
   "metadata": {},
   "outputs": [
    {
     "data": {
      "text/html": [
       "<div>\n",
       "<style scoped>\n",
       "    .dataframe tbody tr th:only-of-type {\n",
       "        vertical-align: middle;\n",
       "    }\n",
       "\n",
       "    .dataframe tbody tr th {\n",
       "        vertical-align: top;\n",
       "    }\n",
       "\n",
       "    .dataframe thead th {\n",
       "        text-align: right;\n",
       "    }\n",
       "</style>\n",
       "<table border=\"1\" class=\"dataframe\">\n",
       "  <thead>\n",
       "    <tr style=\"text-align: right;\">\n",
       "      <th></th>\n",
       "      <th>cpf</th>\n",
       "      <th>nome</th>\n",
       "      <th>segmento</th>\n",
       "      <th>qtd_cont</th>\n",
       "      <th>vlr_total_div</th>\n",
       "      <th>max_dias_atraso</th>\n",
       "    </tr>\n",
       "  </thead>\n",
       "  <tbody>\n",
       "    <tr>\n",
       "      <th>0</th>\n",
       "      <td>42006925890</td>\n",
       "      <td>Bryan Campos</td>\n",
       "      <td>Van Gogh</td>\n",
       "      <td>10</td>\n",
       "      <td>5000</td>\n",
       "      <td>60</td>\n",
       "    </tr>\n",
       "  </tbody>\n",
       "</table>\n",
       "</div>"
      ],
      "text/plain": [
       "           cpf          nome  segmento  qtd_cont  vlr_total_div  \\\n",
       "0  42006925890  Bryan Campos  Van Gogh        10           5000   \n",
       "\n",
       "   max_dias_atraso  \n",
       "0               60  "
      ]
     },
     "execution_count": 8,
     "metadata": {},
     "output_type": "execute_result"
    }
   ],
   "source": [
    "base.head()"
   ]
  },
  {
   "cell_type": "code",
   "execution_count": 9,
   "metadata": {},
   "outputs": [
    {
     "data": {
      "text/plain": [
       "array(['Bryan Campos'], dtype=object)"
      ]
     },
     "execution_count": 9,
     "metadata": {},
     "output_type": "execute_result"
    }
   ],
   "source": [
    "base[\"nome\"].values"
   ]
  },
  {
   "cell_type": "code",
   "execution_count": 7,
   "metadata": {},
   "outputs": [
    {
     "name": "stdout",
     "output_type": "stream",
     "text": [
      "Documento inserido com ID: 668540b0c7fc8992e54be205\n"
     ]
    }
   ],
   "source": [
    "# Teste Mongo\n",
    "\n",
    "from pymongo import MongoClient\n",
    "\n",
    "# Conectar ao servidor MongoDB\n",
    "client = MongoClient('localhost', 27017)\n",
    "\n",
    "# Acessar o banco de dados de teste\n",
    "db = client.test\n",
    "\n",
    "# Inserir um documento de teste\n",
    "result = db.test_collection.insert_one({'name': 'teste', 'value': 42})\n",
    "\n",
    "print(f\"Documento inserido com ID: {result.inserted_id}\")"
   ]
  },
  {
   "cell_type": "code",
   "execution_count": 11,
   "metadata": {},
   "outputs": [],
   "source": [
    "def conectar_mongo():\n",
    "    # Verifica se a conexão já foi criada\n",
    "    if not hasattr(conectar_mongo, \"collection\"):\n",
    "        try:\n",
    "            # Se não, cria uma nova conexão\n",
    "            conectar_mongo.client = MongoClient('mongodb://localhost:27017/', serverSelectionTimeoutMS=5000)\n",
    "            conectar_mongo.client.server_info()  # Tenta obter informações do servidor para testar a conexão\n",
    "            conectar_mongo.db = conectar_mongo.client['db_conversas']\n",
    "            conectar_mongo.collection = conectar_mongo.db['clientes_conversas']\n",
    "        except Exception as e:\n",
    "            print(f\"Erro ao conectar ao MongoDB: {e}\")\n",
    "            conectar_mongo.client = None\n",
    "            return None\n",
    "    else:\n",
    "        print(\"Conexão existente com o MongoDB\")\n",
    "\n",
    "    return conectar_mongo.client, conectar_mongo.db, conectar_mongo.collection"
   ]
  },
  {
   "cell_type": "code",
   "execution_count": 14,
   "metadata": {},
   "outputs": [],
   "source": [
    "# conectar_mongo.collection = None\n",
    "del conectar_mongo.collection"
   ]
  },
  {
   "cell_type": "code",
   "execution_count": 15,
   "metadata": {},
   "outputs": [
    {
     "data": {
      "text/plain": [
       "(MongoClient(host=['localhost:27017'], document_class=dict, tz_aware=False, connect=True, serverselectiontimeoutms=5000),\n",
       " Database(MongoClient(host=['localhost:27017'], document_class=dict, tz_aware=False, connect=True, serverselectiontimeoutms=5000), 'db_conversas'),\n",
       " Collection(Database(MongoClient(host=['localhost:27017'], document_class=dict, tz_aware=False, connect=True, serverselectiontimeoutms=5000), 'db_conversas'), 'clientes_conversas'))"
      ]
     },
     "execution_count": 15,
     "metadata": {},
     "output_type": "execute_result"
    }
   ],
   "source": [
    "conectar_mongo()"
   ]
  },
  {
   "cell_type": "markdown",
   "metadata": {},
   "source": [
    "## Teste armazenar MongoDB"
   ]
  },
  {
   "cell_type": "markdown",
   "metadata": {},
   "source": [
    "Libs"
   ]
  },
  {
   "cell_type": "code",
   "execution_count": 47,
   "metadata": {},
   "outputs": [],
   "source": [
    "from pymongo import MongoClient\n",
    "import json\n",
    "from bson import ObjectId"
   ]
  },
  {
   "cell_type": "markdown",
   "metadata": {},
   "source": [
    "Conexão MongoDB"
   ]
  },
  {
   "cell_type": "code",
   "execution_count": 48,
   "metadata": {},
   "outputs": [],
   "source": [
    "def conectar_mongo():\n",
    "    try:\n",
    "        client = MongoClient('mongodb://localhost:27017/', serverSelectionTimeoutMS=5000)\n",
    "        client.server_info()  # Gera uma exceção se não conseguir conectar\n",
    "        print(\"Conexão com MongoDB bem-sucedida.\")\n",
    "        if client:\n",
    "            db = client['meu_banco_de_dados']\n",
    "            collection = db['clientes_conversas']\n",
    "        return client, db, collection\n",
    "    except Exception as e:\n",
    "        print(f\"Erro ao conectar ao MongoDB: {e}\")\n",
    "        return None"
   ]
  },
  {
   "cell_type": "code",
   "execution_count": 49,
   "metadata": {},
   "outputs": [
    {
     "name": "stdout",
     "output_type": "stream",
     "text": [
      "Conexão com MongoDB bem-sucedida.\n"
     ]
    }
   ],
   "source": [
    "client, db, collection = conectar_mongo() # Conectar ao banco de dados"
   ]
  },
  {
   "cell_type": "markdown",
   "metadata": {},
   "source": [
    "Funções para inserir cliente e mensagem"
   ]
  },
  {
   "cell_type": "code",
   "execution_count": 87,
   "metadata": {},
   "outputs": [],
   "source": [
    "def inserir_cliente():\n",
    "    cliente = collection.find_one({\"cpf\": cpf})\n",
    "    # Inserir novo cliente se não existir\n",
    "    if not cliente:\n",
    "        collection.insert_one({\n",
    "            \"cpf\": cpf,\n",
    "            \"conversas\": [\n",
    "                {\n",
    "                    \"assunto\": assunto,\n",
    "                    \"chats\": [\n",
    "                        {\n",
    "                            \"data_hora_inicio\": dt_hr_ini,\n",
    "                            \"mensagens\": []\n",
    "                        }\n",
    "                    ]\n",
    "                }\n",
    "            ]\n",
    "        })\n",
    "    else:\n",
    "        # Inserir nova conversa caso o cliente já existir na base\n",
    "        assunto_existe = collection.find_one({\"cpf\": cpf, \"conversas.assunto\": assunto})\n",
    "        if not assunto_existe:\n",
    "            # Adicionar um novo assunto com o chat inicial\n",
    "            collection.update_one(\n",
    "                {\"cpf\": cpf},\n",
    "                {\"$push\": {\n",
    "                    \"conversas\": {\n",
    "                        \"assunto\": assunto,\n",
    "                        \"chats\": [\n",
    "                            {\n",
    "                                \"data_hora_inicio\": dt_hr_ini,\n",
    "                                \"mensagens\": []\n",
    "                            }\n",
    "                        ]\n",
    "                    }\n",
    "                }}\n",
    "            )\n",
    "        else:\n",
    "            # Adicionar um novo chat ao assunto existente\n",
    "            collection.update_one(\n",
    "                {\"cpf\": cpf, \"conversas.assunto\": assunto},\n",
    "                {\"$push\": {\n",
    "                    \"conversas.$.chats\": {\n",
    "                        \"data_hora_inicio\": dt_hr_ini,\n",
    "                        \"mensagens\": []\n",
    "                    }\n",
    "                }}\n",
    "            )\n"
   ]
  },
  {
   "cell_type": "code",
   "execution_count": 88,
   "metadata": {},
   "outputs": [],
   "source": [
    "def inserir_mensagem(dict_mensagem):\n",
    "    collection.update_one(\n",
    "        {\"cpf\": cpf},\n",
    "        {\"$push\": {\"conversas.$[conversa].chats.$[chat].mensagens\": dict_mensagem}},\n",
    "        array_filters=[\n",
    "            {\"conversa.assunto\": assunto},\n",
    "            {\"chat.data_hora_inicio\": dt_hr_ini}\n",
    "        ]\n",
    "    )"
   ]
  },
  {
   "cell_type": "markdown",
   "metadata": {},
   "source": [
    "Criando dados fictícios para 2 clientes"
   ]
  },
  {
   "cell_type": "code",
   "execution_count": 121,
   "metadata": {},
   "outputs": [],
   "source": [
    "cliente_1_negociacao_1 = {\n",
    "    \"cpf\": 34366343878,\n",
    "    \"assunto\": \"Negociação\",\n",
    "    \"dt_hr_ini\":\"2024-07-04 09:00:00\",\n",
    "}\n",
    "\n",
    "cliente_1_negociacao_2 = {\n",
    "    \"cpf\": 34366343878,\n",
    "    \"assunto\": \"Reclamação\",\n",
    "    \"dt_hr_ini\":\"2024-07-08 08:30:00\",\n",
    "}\n",
    "\n",
    "cliente_2_negociacao_1 = {\n",
    "    \"cpf\": 72388905850,\n",
    "    \"assunto\": \"Negociação\",\n",
    "    \"dt_hr_ini\":\"2024-07-04 09:00:00\",\n",
    "}\n",
    "\n",
    "cliente_2_negociacao_2 = {\n",
    "    \"cpf\": 72388905850,\n",
    "    \"assunto\": \"Negociação\",\n",
    "    \"dt_hr_ini\":\"2024-07-07 10:00:00\",\n",
    "}\n",
    "\n",
    "cliente_2_boleto = {\n",
    "    \"cpf\": 72388905850,\n",
    "    \"assunto\": \"Boleto\",\n",
    "    \"dt_hr_ini\":\"2024-07-06 15:30:00\",\n",
    "}\n"
   ]
  },
  {
   "cell_type": "code",
   "execution_count": 122,
   "metadata": {},
   "outputs": [],
   "source": [
    "mensagens_cliente_1_negociacao_1 = [\n",
    "    {\n",
    "        \"id\": 1,\n",
    "        \"data_hora\": \"2024-07-04 09:00:00\",\n",
    "        \"mensagem_cliente\": \"Bom dia, meu nome é João e estou entrando em contato porque estou com dificuldades para pagar a dívida que tenho com vocês. Gostaria de saber se existe alguma forma de negociarmos esse valor para facilitar o pagamento.\",\n",
    "        \"sugestao_ia\": \"Olá, João! Agradeço seu contato e estou aqui para ajudá-lo.\",\n",
    "        \"rating_sugestao_ia\": 3,\n",
    "        \"resposta_final_operador\": \"Olá, João! Agradeço seu contato e estou aqui para ajudá-lo. Vamos verificar o que podemos fazer. Uma opção seria parcelar a dívida em termos que caberiam melhor no seu orçamento mensal. Outra possibilidade seria aplicarmos um desconto para pagamento à vista. O que acha dessas opções?\"\n",
    "    },\n",
    "    {\n",
    "        \"id\": 2,\n",
    "        \"data_hora\": \"2024-07-04 09:05:00\",\n",
    "        \"mensagem_cliente\": \"Agradeço a compreensão, Carlos. No momento, a opção de parcelamento seria a mais viável para mim. Não tenho como cobrir o valor total imediatamente.\",\n",
    "        \"sugestao_ia\": \"Entendo, João. Vamos estruturar um plano de parcelamento então.\",\n",
    "        \"rating_sugestao_ia\": 4,\n",
    "        \"resposta_final_operador\": \"Entendo, João. Podemos estruturar um plano de parcelamento então. Que tal dividirmos o total devido em 12 meses? Isso ajudaria a ajustar as parcelas ao seu orçamento?\"\n",
    "    },\n",
    "    {\n",
    "        \"id\": 3,\n",
    "        \"data_hora\": \"2024-07-04 09:10:00\",\n",
    "        \"mensagem_cliente\": \"Isso soa bem, Carlos. As parcelas ficariam de quanto, aproximadamente?\",\n",
    "        \"sugestao_ia\": \"Vou calcular aqui rapidamente.\",\n",
    "        \"rating_sugestao_ia\": 3,\n",
    "        \"resposta_final_operador\": \"Vou calcular aqui rapidamente. Considerando o total devido, com o parcelamento em 12 meses, as parcelas ficariam em torno de X reais por mês. Isso seria confortável para você?\"\n",
    "    },\n",
    "    {\n",
    "        \"id\": 4,\n",
    "        \"data_hora\": \"2024-07-04 09:15:00\",\n",
    "        \"mensagem_cliente\": \"Sim, isso eu consigo fazer. Podemos proceder com esse plano então. Como faço para formalizar esse acordo?\",\n",
    "        \"sugestao_ia\": \"Ótimo, João! Vou enviar agora mesmo para seu e-mail um acordo formal.\",\n",
    "        \"rating_sugestao_ia\": 5,\n",
    "        \"resposta_final_operador\": \"Ótimo, João! Vou enviar agora mesmo para seu e-mail um acordo formal com os detalhes do parcelamento e as instruções para assinatura. Assim que receber sua confirmação e assinatura, seu novo plano estará ativo.\"\n",
    "    }\n",
    "]"
   ]
  },
  {
   "cell_type": "code",
   "execution_count": 123,
   "metadata": {},
   "outputs": [],
   "source": [
    "mensagens_cliente_1_negociacao_2 = [\n",
    "    {\n",
    "        \"id\": 1,\n",
    "        \"data_hora\": \"2024-07-08 08:30:00\",\n",
    "        \"mensagem_cliente\": \"Olá, sou o João. Estou enfrentando algumas dificuldades financeiras adicionais e gostaria de discutir a possibilidade de uma pausa nos pagamentos da dívida por alguns meses. Isso é possível?\",\n",
    "        \"sugestao_ia\": \"Olá, João! Vamos ver o que podemos fazer.\",\n",
    "        \"rating_sugestao_ia\": 3,\n",
    "        \"resposta_final_operador\": \"Olá, João! Sinto muito por ouvir isso. Podemos certamente considerar uma pausa no pagamento. Uma opção seria oferecer uma moratória de três meses sem cobrança de juros durante esse período. Isso ajudaria?\"\n",
    "    },\n",
    "    {\n",
    "        \"id\": 2,\n",
    "        \"data_hora\": \"2024-07-08 08:35:00\",\n",
    "        \"mensagem_cliente\": \"Isso seria de grande ajuda. Há alguma condição especial ou penalidade após esse período?\",\n",
    "        \"sugestao_ia\": \"Vamos verificar as condições para você, João.\",\n",
    "        \"rating_sugestao_ia\": 4,\n",
    "        \"resposta_final_operador\": \"Não haverá penalidades, João. Após a pausa de três meses, você retomará os pagamentos como planejado anteriormente, sem alterações no valor ou acréscimos de juros. Isso soa aceitável para você?\"\n",
    "    },\n",
    "    {\n",
    "        \"id\": 3,\n",
    "        \"data_hora\": \"2024-07-08 08:40:00\",\n",
    "        \"mensagem_cliente\": \"Sim, isso parece justo. Vamos prosseguir com essa pausa. O que preciso fazer para formalizar essa alteração?\",\n",
    "        \"sugestao_ia\": \"Preparando a documentação necessária para você.\",\n",
    "        \"rating_sugestao_ia\": 5,\n",
    "        \"resposta_final_operador\": \"Ótimo, João! Vou preparar a documentação necessária e enviar para o seu e-mail para assinatura. Assim que receber sua assinatura, a pausa entrará em vigor. Agradeço a confiança em nos procurar para resolver esta situação.\"\n",
    "    }\n",
    "]"
   ]
  },
  {
   "cell_type": "code",
   "execution_count": 124,
   "metadata": {},
   "outputs": [],
   "source": [
    "mensagens_cliente_2_negociacao_1 = [\n",
    "    {\n",
    "        \"id\": 1,\n",
    "        \"data_hora\": \"2024-07-04 14:00:00\",\n",
    "        \"mensagem_cliente\": \"Olá, aqui é a Ana. Estou passando por um momento financeiro difícil e gostaria de saber se existe alguma possibilidade de renegociarmos a minha dívida para facilitar o pagamento.\",\n",
    "        \"sugestao_ia\": \"Olá, Ana! Estou aqui para ajudar.\",\n",
    "        \"rating_sugestao_ia\": 3,\n",
    "        \"resposta_final_operador\": \"Olá, Ana! Compreendo sua situação e quero ajudá-la. Temos algumas opções, como parcelar a dívida ou oferecer um desconto para pagamento à vista. Qual dessas opções lhe parece mais adequada?\"\n",
    "    },\n",
    "    {\n",
    "        \"id\": 2,\n",
    "        \"data_hora\": \"2024-07-04 14:05:00\",\n",
    "        \"mensagem_cliente\": \"Obrigada pela rápida resposta. Acredito que o parcelamento seria mais adequado para mim no momento, já que não tenho como pagar tudo de uma vez.\",\n",
    "        \"sugestao_ia\": \"Perfeito, Ana. Vamos ver as condições de parcelamento.\",\n",
    "        \"rating_sugestao_ia\": 4,\n",
    "        \"resposta_final_operador\": \"Perfeito, Ana. Podemos parcelar o total devido em várias parcelas. Que tal dividirmos em 24 meses? Isso ajudaria a aliviar seu orçamento mensal?\"\n",
    "    },\n",
    "    {\n",
    "        \"id\": 3,\n",
    "        \"data_hora\": \"2024-07-04 14:10:00\",\n",
    "        \"mensagem_cliente\": \"24 meses seria ótimo, mas quais seriam os valores das parcelas?\",\n",
    "        \"sugestao_ia\": \"Vou calcular os valores para você.\",\n",
    "        \"rating_sugestao_ia\": 4,\n",
    "        \"resposta_final_operador\": \"Com base no total devido, o parcelamento em 24 meses resultaria em parcelas de aproximadamente Y reais cada. Isso se ajustaria ao seu orçamento?\"\n",
    "    },\n",
    "    {\n",
    "        \"id\": 4,\n",
    "        \"data_hora\": \"2024-07-04 14:15:00\",\n",
    "        \"mensagem_cliente\": \"Sim, esse valor é algo que posso gerenciar. Como podemos formalizar esse acordo?\",\n",
    "        \"sugestao_ia\": \"Vou preparar o acordo e enviar para o seu e-mail.\",\n",
    "        \"rating_sugestao_ia\": 5,\n",
    "        \"resposta_final_operador\": \"Ótimo, Ana! Vou preparar o acordo e enviar para o seu e-mail com todos os detalhes e as instruções para a assinatura eletrônica. Assim que receber sua confirmação, o novo plano estará ativo.\"\n",
    "    }\n",
    "]"
   ]
  },
  {
   "cell_type": "code",
   "execution_count": 125,
   "metadata": {},
   "outputs": [],
   "source": [
    "mensagens_cliente_2_negociacao_2 = [\n",
    "    {\n",
    "        \"id\": 1,\n",
    "        \"data_hora\": \"2024-07-07 10:00:00\",\n",
    "        \"mensagem_cliente\": \"Olá, aqui é a Ana novamente. Após revisar meu orçamento, percebi que as parcelas ainda estão um pouco altas para a minha capacidade atual de pagamento. Há alguma forma de reduzirmos ainda mais o valor mensal?\",\n",
    "        \"sugestao_ia\": \"Olá, Ana! Vamos encontrar uma solução juntos.\",\n",
    "        \"rating_sugestao_ia\": 3,\n",
    "        \"resposta_final_operador\": \"Olá, Ana! Obrigado por entrar em contato. Podemos explorar algumas opções para aliviar seu orçamento. Uma possibilidade seria estender o prazo do parcelamento para reduzir o valor mensal. Que tal estendermos para 36 meses?\"\n",
    "    },\n",
    "    {\n",
    "        \"id\": 2,\n",
    "        \"data_hora\": \"2024-07-07 10:05:00\",\n",
    "        \"mensagem_cliente\": \"Estender o prazo pode ser uma boa ideia, mas isso aumentaria muito os juros? Estou tentando evitar mais despesas a longo prazo.\",\n",
    "        \"sugestao_ia\": \"Vamos calcular os juros e ver como fica.\",\n",
    "        \"rating_sugestao_ia\": 4,\n",
    "        \"resposta_final_operador\": \"Compreendo sua preocupação, Ana. Se estendermos para 36 meses, haverá um pequeno aumento na taxa de juros, mas ainda assim o valor mensal seria significativamente menor. Posso fazer uma simulação e enviar-lhe os detalhes para que você possa decidir?\"\n",
    "    },\n",
    "    {\n",
    "        \"id\": 3,\n",
    "        \"data_hora\": \"2024-07-07 10:10:00\",\n",
    "        \"mensagem_cliente\": \"Por favor, faça a simulação. Quero ver todos os números antes de tomar uma decisão.\",\n",
    "        \"sugestao_ia\": \"Simulação em andamento, Ana.\",\n",
    "        \"rating_sugestao_ia\": 4,\n",
    "        \"resposta_final_operador\": \"Perfeito, Ana! Estou enviando para o seu e-mail uma simulação detalhada com os novos valores mensais e o total de juros. Assim que revisar, me avise se deseja prosseguir com esta nova condição ou se podemos buscar outra alternativa.\"\n",
    "    }\n",
    "]"
   ]
  },
  {
   "cell_type": "code",
   "execution_count": 126,
   "metadata": {},
   "outputs": [],
   "source": [
    "mensagens_cliente_2_boleto = [\n",
    "    {\n",
    "        \"id\": 1,\n",
    "        \"data_hora\": \"2024-07-05 10:00:00\",\n",
    "        \"mensagem_cliente\": \"Bom dia! Sou a Ana, e eu não recebi o boleto para pagamento da parcela deste mês. Vocês poderiam me enviar novamente?\",\n",
    "        \"sugestao_ia\": \"Bom dia, Ana! Claro, vamos verificar isso para você.\",\n",
    "        \"rating_sugestao_ia\": 3,\n",
    "        \"resposta_final_operador\": \"Bom dia, Ana! Peço desculpas pelo transtorno. Vou verificar no sistema e encaminhar o boleto para o seu e-mail imediatamente. Pode me confirmar se o endereço de e-mail para envio continua sendo ana@example.com?\"\n",
    "    },\n",
    "    {\n",
    "        \"id\": 2,\n",
    "        \"data_hora\": \"2024-07-05 10:02:00\",\n",
    "        \"mensagem_cliente\": \"Isso mesmo, o e-mail está correto. Obrigada por verificar tão rápido!\",\n",
    "        \"sugestao_ia\": \"Nada que agradecer, Ana! Vou enviar agora.\",\n",
    "        \"rating_sugestao_ia\": 4,\n",
    "        \"resposta_final_operador\": \"Perfeito, Ana! Já enviei o boleto para o seu e-mail. Você deve recebê-lo dentro de alguns minutos. Por favor, verifique também a sua caixa de spam, caso não encontre na caixa de entrada.\"\n",
    "    },\n",
    "    {\n",
    "        \"id\": 3,\n",
    "        \"data_hora\": \"2024-07-05 10:05:00\",\n",
    "        \"mensagem_cliente\": \"Recebi o boleto, muito obrigada pela ajuda rápida! Aproveitando, há algum desconto para pagamento antecipado?\",\n",
    "        \"sugestao_ia\": \"Que bom que deu tudo certo, Ana! Vou verificar sobre o desconto.\",\n",
    "        \"rating_sugestao_ia\": 3,\n",
    "        \"resposta_final_operador\": \"Que bom que recebeu, Ana! Sobre o pagamento antecipado, oferecemos um desconto de 5% para pagamentos realizados até 5 dias antes do vencimento. Se interessar, posso recalcular o boleto com o desconto.\"\n",
    "    }\n",
    "]"
   ]
  },
  {
   "cell_type": "markdown",
   "metadata": {},
   "source": [
    "Inserindo as informações no banco de dados"
   ]
  },
  {
   "cell_type": "code",
   "execution_count": 136,
   "metadata": {},
   "outputs": [
    {
     "data": {
      "text/plain": [
       "DeleteResult({'n': 2, 'ok': 1.0}, acknowledged=True)"
      ]
     },
     "execution_count": 136,
     "metadata": {},
     "output_type": "execute_result"
    }
   ],
   "source": [
    "collection.delete_many({}) # limpar base antes"
   ]
  },
  {
   "cell_type": "code",
   "execution_count": 138,
   "metadata": {},
   "outputs": [],
   "source": [
    "lista_clientes = [\n",
    "    cliente_1_negociacao_1,\n",
    "    cliente_1_negociacao_2,\n",
    "    cliente_2_negociacao_1,\n",
    "    cliente_2_negociacao_2,\n",
    "    cliente_2_boleto\n",
    "]"
   ]
  },
  {
   "cell_type": "code",
   "execution_count": 139,
   "metadata": {},
   "outputs": [],
   "source": [
    "lista_mensagens = [\n",
    "    mensagens_cliente_1_negociacao_1,\n",
    "    mensagens_cliente_1_negociacao_2,\n",
    "    mensagens_cliente_2_negociacao_1,\n",
    "    mensagens_cliente_2_negociacao_2,\n",
    "    mensagens_cliente_2_boleto\n",
    "]"
   ]
  },
  {
   "cell_type": "code",
   "execution_count": 140,
   "metadata": {},
   "outputs": [],
   "source": [
    "for c, m in zip(lista_clientes, lista_mensagens):\n",
    "    cpf = c[\"cpf\"]\n",
    "    assunto = c[\"assunto\"]\n",
    "    dt_hr_ini = c[\"dt_hr_ini\"]\n",
    "    inserir_cliente()\n",
    "    for i in m:\n",
    "        inserir_mensagem(i)"
   ]
  },
  {
   "cell_type": "markdown",
   "metadata": {},
   "source": [
    "Função para visualizar os dados"
   ]
  },
  {
   "cell_type": "code",
   "execution_count": 141,
   "metadata": {},
   "outputs": [],
   "source": [
    "# Função personalizada para serializar ObjectId\n",
    "class JSONEncoder(json.JSONEncoder):\n",
    "    def default(self, obj):\n",
    "        if isinstance(obj, ObjectId):\n",
    "            return str(obj)\n",
    "        return json.JSONEncoder.default(self, obj)"
   ]
  },
  {
   "cell_type": "code",
   "execution_count": 142,
   "metadata": {},
   "outputs": [],
   "source": [
    "# Consultar todos os documentos na coleção\n",
    "def consultar_todos():\n",
    "    documentos = collection.find()\n",
    "    for doc in documentos:\n",
    "        print(json.dumps(doc, indent=4, ensure_ascii=False, cls=JSONEncoder))\n",
    "\n",
    "# Consultar documentos com uma condição\n",
    "def consultar_condicao(cpf):\n",
    "    documento = collection.find_one({\"cpf\": cpf})\n",
    "    if documento:\n",
    "        json.dumps(documento, indent=4, ensure_ascii=False, cls=JSONEncoder)\n",
    "    else:\n",
    "        print(f\"Nenhum documento encontrado para o CPF {cpf}\")"
   ]
  },
  {
   "cell_type": "code",
   "execution_count": 143,
   "metadata": {},
   "outputs": [
    {
     "name": "stdout",
     "output_type": "stream",
     "text": [
      "{\n",
      "    \"_id\": \"6686da99b339da29e9438ebf\",\n",
      "    \"cpf\": 34366343878,\n",
      "    \"conversas\": [\n",
      "        {\n",
      "            \"assunto\": \"Negociação\",\n",
      "            \"chats\": [\n",
      "                {\n",
      "                    \"data_hora_inicio\": \"2024-07-04 09:00:00\",\n",
      "                    \"mensagens\": [\n",
      "                        {\n",
      "                            \"id\": 1,\n",
      "                            \"data_hora\": \"2024-07-04 09:00:00\",\n",
      "                            \"mensagem_cliente\": \"Bom dia, meu nome é João e estou entrando em contato porque estou com dificuldades para pagar a dívida que tenho com vocês. Gostaria de saber se existe alguma forma de negociarmos esse valor para facilitar o pagamento.\",\n",
      "                            \"sugestao_ia\": \"Olá, João! Agradeço seu contato e estou aqui para ajudá-lo.\",\n",
      "                            \"rating_sugestao_ia\": 3,\n",
      "                            \"resposta_final_operador\": \"Olá, João! Agradeço seu contato e estou aqui para ajudá-lo. Vamos verificar o que podemos fazer. Uma opção seria parcelar a dívida em termos que caberiam melhor no seu orçamento mensal. Outra possibilidade seria aplicarmos um desconto para pagamento à vista. O que acha dessas opções?\"\n",
      "                        },\n",
      "                        {\n",
      "                            \"id\": 2,\n",
      "                            \"data_hora\": \"2024-07-04 09:05:00\",\n",
      "                            \"mensagem_cliente\": \"Agradeço a compreensão, Carlos. No momento, a opção de parcelamento seria a mais viável para mim. Não tenho como cobrir o valor total imediatamente.\",\n",
      "                            \"sugestao_ia\": \"Entendo, João. Vamos estruturar um plano de parcelamento então.\",\n",
      "                            \"rating_sugestao_ia\": 4,\n",
      "                            \"resposta_final_operador\": \"Entendo, João. Podemos estruturar um plano de parcelamento então. Que tal dividirmos o total devido em 12 meses? Isso ajudaria a ajustar as parcelas ao seu orçamento?\"\n",
      "                        },\n",
      "                        {\n",
      "                            \"id\": 3,\n",
      "                            \"data_hora\": \"2024-07-04 09:10:00\",\n",
      "                            \"mensagem_cliente\": \"Isso soa bem, Carlos. As parcelas ficariam de quanto, aproximadamente?\",\n",
      "                            \"sugestao_ia\": \"Vou calcular aqui rapidamente.\",\n",
      "                            \"rating_sugestao_ia\": 3,\n",
      "                            \"resposta_final_operador\": \"Vou calcular aqui rapidamente. Considerando o total devido, com o parcelamento em 12 meses, as parcelas ficariam em torno de X reais por mês. Isso seria confortável para você?\"\n",
      "                        },\n",
      "                        {\n",
      "                            \"id\": 4,\n",
      "                            \"data_hora\": \"2024-07-04 09:15:00\",\n",
      "                            \"mensagem_cliente\": \"Sim, isso eu consigo fazer. Podemos proceder com esse plano então. Como faço para formalizar esse acordo?\",\n",
      "                            \"sugestao_ia\": \"Ótimo, João! Vou enviar agora mesmo para seu e-mail um acordo formal.\",\n",
      "                            \"rating_sugestao_ia\": 5,\n",
      "                            \"resposta_final_operador\": \"Ótimo, João! Vou enviar agora mesmo para seu e-mail um acordo formal com os detalhes do parcelamento e as instruções para assinatura. Assim que receber sua confirmação e assinatura, seu novo plano estará ativo.\"\n",
      "                        }\n",
      "                    ]\n",
      "                }\n",
      "            ]\n",
      "        },\n",
      "        {\n",
      "            \"assunto\": \"Reclamação\",\n",
      "            \"chats\": [\n",
      "                {\n",
      "                    \"data_hora_inicio\": \"2024-07-08 08:30:00\",\n",
      "                    \"mensagens\": [\n",
      "                        {\n",
      "                            \"id\": 1,\n",
      "                            \"data_hora\": \"2024-07-08 08:30:00\",\n",
      "                            \"mensagem_cliente\": \"Olá, sou o João. Estou enfrentando algumas dificuldades financeiras adicionais e gostaria de discutir a possibilidade de uma pausa nos pagamentos da dívida por alguns meses. Isso é possível?\",\n",
      "                            \"sugestao_ia\": \"Olá, João! Vamos ver o que podemos fazer.\",\n",
      "                            \"rating_sugestao_ia\": 3,\n",
      "                            \"resposta_final_operador\": \"Olá, João! Sinto muito por ouvir isso. Podemos certamente considerar uma pausa no pagamento. Uma opção seria oferecer uma moratória de três meses sem cobrança de juros durante esse período. Isso ajudaria?\"\n",
      "                        },\n",
      "                        {\n",
      "                            \"id\": 2,\n",
      "                            \"data_hora\": \"2024-07-08 08:35:00\",\n",
      "                            \"mensagem_cliente\": \"Isso seria de grande ajuda. Há alguma condição especial ou penalidade após esse período?\",\n",
      "                            \"sugestao_ia\": \"Vamos verificar as condições para você, João.\",\n",
      "                            \"rating_sugestao_ia\": 4,\n",
      "                            \"resposta_final_operador\": \"Não haverá penalidades, João. Após a pausa de três meses, você retomará os pagamentos como planejado anteriormente, sem alterações no valor ou acréscimos de juros. Isso soa aceitável para você?\"\n",
      "                        },\n",
      "                        {\n",
      "                            \"id\": 3,\n",
      "                            \"data_hora\": \"2024-07-08 08:40:00\",\n",
      "                            \"mensagem_cliente\": \"Sim, isso parece justo. Vamos prosseguir com essa pausa. O que preciso fazer para formalizar essa alteração?\",\n",
      "                            \"sugestao_ia\": \"Preparando a documentação necessária para você.\",\n",
      "                            \"rating_sugestao_ia\": 5,\n",
      "                            \"resposta_final_operador\": \"Ótimo, João! Vou preparar a documentação necessária e enviar para o seu e-mail para assinatura. Assim que receber sua assinatura, a pausa entrará em vigor. Agradeço a confiança em nos procurar para resolver esta situação.\"\n",
      "                        }\n",
      "                    ]\n",
      "                }\n",
      "            ]\n",
      "        }\n",
      "    ]\n",
      "}\n",
      "{\n",
      "    \"_id\": \"6686da99b339da29e9438ec0\",\n",
      "    \"cpf\": 72388905850,\n",
      "    \"conversas\": [\n",
      "        {\n",
      "            \"assunto\": \"Negociação\",\n",
      "            \"chats\": [\n",
      "                {\n",
      "                    \"data_hora_inicio\": \"2024-07-04 09:00:00\",\n",
      "                    \"mensagens\": [\n",
      "                        {\n",
      "                            \"id\": 1,\n",
      "                            \"data_hora\": \"2024-07-04 14:00:00\",\n",
      "                            \"mensagem_cliente\": \"Olá, aqui é a Ana. Estou passando por um momento financeiro difícil e gostaria de saber se existe alguma possibilidade de renegociarmos a minha dívida para facilitar o pagamento.\",\n",
      "                            \"sugestao_ia\": \"Olá, Ana! Estou aqui para ajudar.\",\n",
      "                            \"rating_sugestao_ia\": 3,\n",
      "                            \"resposta_final_operador\": \"Olá, Ana! Compreendo sua situação e quero ajudá-la. Temos algumas opções, como parcelar a dívida ou oferecer um desconto para pagamento à vista. Qual dessas opções lhe parece mais adequada?\"\n",
      "                        },\n",
      "                        {\n",
      "                            \"id\": 2,\n",
      "                            \"data_hora\": \"2024-07-04 14:05:00\",\n",
      "                            \"mensagem_cliente\": \"Obrigada pela rápida resposta. Acredito que o parcelamento seria mais adequado para mim no momento, já que não tenho como pagar tudo de uma vez.\",\n",
      "                            \"sugestao_ia\": \"Perfeito, Ana. Vamos ver as condições de parcelamento.\",\n",
      "                            \"rating_sugestao_ia\": 4,\n",
      "                            \"resposta_final_operador\": \"Perfeito, Ana. Podemos parcelar o total devido em várias parcelas. Que tal dividirmos em 24 meses? Isso ajudaria a aliviar seu orçamento mensal?\"\n",
      "                        },\n",
      "                        {\n",
      "                            \"id\": 3,\n",
      "                            \"data_hora\": \"2024-07-04 14:10:00\",\n",
      "                            \"mensagem_cliente\": \"24 meses seria ótimo, mas quais seriam os valores das parcelas?\",\n",
      "                            \"sugestao_ia\": \"Vou calcular os valores para você.\",\n",
      "                            \"rating_sugestao_ia\": 4,\n",
      "                            \"resposta_final_operador\": \"Com base no total devido, o parcelamento em 24 meses resultaria em parcelas de aproximadamente Y reais cada. Isso se ajustaria ao seu orçamento?\"\n",
      "                        },\n",
      "                        {\n",
      "                            \"id\": 4,\n",
      "                            \"data_hora\": \"2024-07-04 14:15:00\",\n",
      "                            \"mensagem_cliente\": \"Sim, esse valor é algo que posso gerenciar. Como podemos formalizar esse acordo?\",\n",
      "                            \"sugestao_ia\": \"Vou preparar o acordo e enviar para o seu e-mail.\",\n",
      "                            \"rating_sugestao_ia\": 5,\n",
      "                            \"resposta_final_operador\": \"Ótimo, Ana! Vou preparar o acordo e enviar para o seu e-mail com todos os detalhes e as instruções para a assinatura eletrônica. Assim que receber sua confirmação, o novo plano estará ativo.\"\n",
      "                        }\n",
      "                    ]\n",
      "                },\n",
      "                {\n",
      "                    \"data_hora_inicio\": \"2024-07-07 10:00:00\",\n",
      "                    \"mensagens\": [\n",
      "                        {\n",
      "                            \"id\": 1,\n",
      "                            \"data_hora\": \"2024-07-07 10:00:00\",\n",
      "                            \"mensagem_cliente\": \"Olá, aqui é a Ana novamente. Após revisar meu orçamento, percebi que as parcelas ainda estão um pouco altas para a minha capacidade atual de pagamento. Há alguma forma de reduzirmos ainda mais o valor mensal?\",\n",
      "                            \"sugestao_ia\": \"Olá, Ana! Vamos encontrar uma solução juntos.\",\n",
      "                            \"rating_sugestao_ia\": 3,\n",
      "                            \"resposta_final_operador\": \"Olá, Ana! Obrigado por entrar em contato. Podemos explorar algumas opções para aliviar seu orçamento. Uma possibilidade seria estender o prazo do parcelamento para reduzir o valor mensal. Que tal estendermos para 36 meses?\"\n",
      "                        },\n",
      "                        {\n",
      "                            \"id\": 2,\n",
      "                            \"data_hora\": \"2024-07-07 10:05:00\",\n",
      "                            \"mensagem_cliente\": \"Estender o prazo pode ser uma boa ideia, mas isso aumentaria muito os juros? Estou tentando evitar mais despesas a longo prazo.\",\n",
      "                            \"sugestao_ia\": \"Vamos calcular os juros e ver como fica.\",\n",
      "                            \"rating_sugestao_ia\": 4,\n",
      "                            \"resposta_final_operador\": \"Compreendo sua preocupação, Ana. Se estendermos para 36 meses, haverá um pequeno aumento na taxa de juros, mas ainda assim o valor mensal seria significativamente menor. Posso fazer uma simulação e enviar-lhe os detalhes para que você possa decidir?\"\n",
      "                        },\n",
      "                        {\n",
      "                            \"id\": 3,\n",
      "                            \"data_hora\": \"2024-07-07 10:10:00\",\n",
      "                            \"mensagem_cliente\": \"Por favor, faça a simulação. Quero ver todos os números antes de tomar uma decisão.\",\n",
      "                            \"sugestao_ia\": \"Simulação em andamento, Ana.\",\n",
      "                            \"rating_sugestao_ia\": 4,\n",
      "                            \"resposta_final_operador\": \"Perfeito, Ana! Estou enviando para o seu e-mail uma simulação detalhada com os novos valores mensais e o total de juros. Assim que revisar, me avise se deseja prosseguir com esta nova condição ou se podemos buscar outra alternativa.\"\n",
      "                        }\n",
      "                    ]\n",
      "                }\n",
      "            ]\n",
      "        },\n",
      "        {\n",
      "            \"assunto\": \"Boleto\",\n",
      "            \"chats\": [\n",
      "                {\n",
      "                    \"data_hora_inicio\": \"2024-07-06 15:30:00\",\n",
      "                    \"mensagens\": [\n",
      "                        {\n",
      "                            \"id\": 1,\n",
      "                            \"data_hora\": \"2024-07-05 10:00:00\",\n",
      "                            \"mensagem_cliente\": \"Bom dia! Sou a Ana, e eu não recebi o boleto para pagamento da parcela deste mês. Vocês poderiam me enviar novamente?\",\n",
      "                            \"sugestao_ia\": \"Bom dia, Ana! Claro, vamos verificar isso para você.\",\n",
      "                            \"rating_sugestao_ia\": 3,\n",
      "                            \"resposta_final_operador\": \"Bom dia, Ana! Peço desculpas pelo transtorno. Vou verificar no sistema e encaminhar o boleto para o seu e-mail imediatamente. Pode me confirmar se o endereço de e-mail para envio continua sendo ana@example.com?\"\n",
      "                        },\n",
      "                        {\n",
      "                            \"id\": 2,\n",
      "                            \"data_hora\": \"2024-07-05 10:02:00\",\n",
      "                            \"mensagem_cliente\": \"Isso mesmo, o e-mail está correto. Obrigada por verificar tão rápido!\",\n",
      "                            \"sugestao_ia\": \"Nada que agradecer, Ana! Vou enviar agora.\",\n",
      "                            \"rating_sugestao_ia\": 4,\n",
      "                            \"resposta_final_operador\": \"Perfeito, Ana! Já enviei o boleto para o seu e-mail. Você deve recebê-lo dentro de alguns minutos. Por favor, verifique também a sua caixa de spam, caso não encontre na caixa de entrada.\"\n",
      "                        },\n",
      "                        {\n",
      "                            \"id\": 3,\n",
      "                            \"data_hora\": \"2024-07-05 10:05:00\",\n",
      "                            \"mensagem_cliente\": \"Recebi o boleto, muito obrigada pela ajuda rápida! Aproveitando, há algum desconto para pagamento antecipado?\",\n",
      "                            \"sugestao_ia\": \"Que bom que deu tudo certo, Ana! Vou verificar sobre o desconto.\",\n",
      "                            \"rating_sugestao_ia\": 3,\n",
      "                            \"resposta_final_operador\": \"Que bom que recebeu, Ana! Sobre o pagamento antecipado, oferecemos um desconto de 5% para pagamentos realizados até 5 dias antes do vencimento. Se interessar, posso recalcular o boleto com o desconto.\"\n",
      "                        }\n",
      "                    ]\n",
      "                }\n",
      "            ]\n",
      "        }\n",
      "    ]\n",
      "}\n"
     ]
    }
   ],
   "source": [
    "consultar_todos()\n",
    "# consultar_condicao(72388905850)"
   ]
  },
  {
   "cell_type": "markdown",
   "metadata": {},
   "source": [
    "Validado - OK!"
   ]
  },
  {
   "cell_type": "markdown",
   "metadata": {},
   "source": [
    "# Teste leitura dados MongoDB"
   ]
  },
  {
   "cell_type": "code",
   "execution_count": 41,
   "metadata": {},
   "outputs": [],
   "source": [
    "documentos = collection.find()"
   ]
  },
  {
   "cell_type": "code",
   "execution_count": 43,
   "metadata": {},
   "outputs": [],
   "source": [
    "# Percorre os documentos para extrair as informações necessárias\n",
    "documentos = collection.find()\n",
    "conversas_lista = []\n",
    "for documento in documentos:\n",
    "    cpf = documento[\"cpf\"]\n",
    "    for conversa in documento[\"conversas\"]:\n",
    "        assunto = conversa[\"assunto\"]\n",
    "        for chat in conversa[\"chats\"]:\n",
    "            data_hora_inicio = chat[\"data_hora_inicio\"]\n",
    "            conversas_lista.append(f\"{data_hora_inicio} - {cpf} - {assunto}\")"
   ]
  },
  {
   "cell_type": "code",
   "execution_count": 44,
   "metadata": {},
   "outputs": [
    {
     "name": "stdout",
     "output_type": "stream",
     "text": [
      "2024-06-27 - 34343434343 - Reclamação\n",
      "2024-06-27 - 34343434343 - Reclamação\n",
      "2024-06-27 - 42006925890 - Reclamação\n"
     ]
    }
   ],
   "source": [
    "# Ordena a lista por data\n",
    "conversas_lista.sort()\n",
    "\n",
    "# Exibe a lista ordenada\n",
    "for conversa in conversas_lista:\n",
    "    print(conversa)"
   ]
  },
  {
   "cell_type": "code",
   "execution_count": null,
   "metadata": {},
   "outputs": [],
   "source": [
    "# Percorre o dicionário para extrair as informações necessárias\n",
    "for pessoa in dicionario:\n",
    "    cpf = pessoa[\"cpf\"]\n",
    "    for conversa in pessoa[\"conversas\"]:\n",
    "        assunto = conversa[\"assunto\"]\n",
    "        for chat in conversa[\"chats\"]:\n",
    "            data_hora_inicio = chat[\"data_hora_inicio\"]\n",
    "            conversas_lista.append(f\"{data_hora_inicio} - {cpf} - {assunto}\")\n",
    "\n",
    "# Ordena a lista por data\n",
    "conversas_lista.sort()\n",
    "\n",
    "# Exibe a lista ordenada\n",
    "for conversa in conversas_lista:\n",
    "    print(conversa)"
   ]
  },
  {
   "cell_type": "code",
   "execution_count": 2,
   "metadata": {},
   "outputs": [],
   "source": [
    "lista = [\"2024-06-27 - 42006925890 - Reclamação\", \"2024-06-27 - 42006925890 - Boleto\"]"
   ]
  },
  {
   "cell_type": "code",
   "execution_count": 4,
   "metadata": {},
   "outputs": [
    {
     "data": {
      "text/plain": [
       "['2024-06-27 - 42006925890 - Reclamação', '2024-06-27 - 42006925890 - Boleto']"
      ]
     },
     "execution_count": 4,
     "metadata": {},
     "output_type": "execute_result"
    }
   ],
   "source": [
    "lista[:]"
   ]
  },
  {
   "cell_type": "code",
   "execution_count": 49,
   "metadata": {},
   "outputs": [],
   "source": [
    "lista2 = []\n",
    "for i in lista:\n",
    "    lista2.append(i.split(\" - \"))"
   ]
  },
  {
   "cell_type": "code",
   "execution_count": 1,
   "metadata": {},
   "outputs": [
    {
     "ename": "NameError",
     "evalue": "name 'lista2' is not defined",
     "output_type": "error",
     "traceback": [
      "\u001b[1;31m---------------------------------------------------------------------------\u001b[0m",
      "\u001b[1;31mNameError\u001b[0m                                 Traceback (most recent call last)",
      "Cell \u001b[1;32mIn[1], line 1\u001b[0m\n\u001b[1;32m----> 1\u001b[0m \u001b[43mlista2\u001b[49m\n",
      "\u001b[1;31mNameError\u001b[0m: name 'lista2' is not defined"
     ]
    }
   ],
   "source": [
    "lista2"
   ]
  },
  {
   "cell_type": "markdown",
   "metadata": {},
   "source": [
    "Criando conversas fictícias para testar a sidebar"
   ]
  },
  {
   "cell_type": "code",
   "execution_count": 6,
   "metadata": {},
   "outputs": [],
   "source": [
    "posicoes_lista = []"
   ]
  },
  {
   "cell_type": "markdown",
   "metadata": {},
   "source": [
    "Criando chats fictícios para 2 CPFs"
   ]
  },
  {
   "cell_type": "code",
   "execution_count": null,
   "metadata": {},
   "outputs": [],
   "source": [
    "{\n",
    "    \"cpf\": 42006925890,\n",
    "    \"conversas\": [\n",
    "        {\n",
    "            \"assunto\": \"Reclamação\",\n",
    "            \"chats\": [\n",
    "                {\n",
    "                    \"data_hora_inicio\": \"2024-06-27\",\n",
    "                    \"mensagens\": [\n",
    "                        {\n",
    "                            \"id\": 1,\n",
    "                            \"data_hora\": \"2024-06-27 10:30:00\",\n",
    "                            \"mensagem_cliente\": \"Iphone 24\",\n",
    "                            \"sugestao_ia\": \"Esse produto não existe\",\n",
    "                            \"rating_sugestao_ia\": 4,\n",
    "                            \"resposta_final_operador\": \"Sr. João, o produto correto é o Iphone 15\"\n",
    "                        },\n",
    "                        {\n",
    "                            \"id\": 2,\n",
    "                            \"data_hora\": \"2024-06-27 10:35:00\",\n",
    "                            \"mensagem_cliente\": \"Obrigado\",\n",
    "                            \"sugestao_ia\": \"\",\n",
    "                            \"rating_sugestao_ia\": 0,\n",
    "                            \"resposta_final_operador\": \"\"\n",
    "                        },\n",
    "                        {\n",
    "                            \"id\": 3,\n",
    "                            \"data_hora\": \"2024-06-27 10:40:00\",\n",
    "                            \"mensagem_cliente\": \"Boa tarde\",\n",
    "                            \"sugestao_ia\": \"\",\n",
    "                            \"rating_sugestao_ia\": 0,\n",
    "                            \"resposta_final_operador\": \"\"\n",
    "                        }\n",
    "                    ]\n",
    "                }\n",
    "            ]\n",
    "        },\n",
    "        {\n",
    "            \"assunto\": \"Boleto\",\n",
    "            \"chats\": [\n",
    "                {\n",
    "                    \"data_hora_inicio\": \"2024-06-27\",\n",
    "                    \"mensagens\": [\n",
    "                        {\n",
    "                            \"id\": 1,\n",
    "                            \"data_hora\": \"2024-06-27 10:45:00\",\n",
    "                            \"mensagem_cliente\": \"Boleto vencido\",\n",
    "                            \"sugestao_ia\": \"Sr. João, o boleto venceu ontem\",\n",
    "                            \"rating_sugestao_ia\": 5,\n",
    "                            \"resposta_final_operador\": \"Sr. João, o novo boleto foi enviado para o seu e-mail\"\n",
    "                        },\n",
    "                        {\n",
    "                            \"id\": 2,\n",
    "                            \"data_hora\": \"2024-06-27 10:50:00\",\n",
    "                            \"mensagem_cliente\": \"Obrigado\",\n",
    "                            \"sugestao_ia\": \"\",\n",
    "                            \"rating_sugestao_ia\": 0,\n",
    "                            \"resposta_final_operador\": \"\"\n",
    "                        }\n",
    "                    ]\n",
    "                }\n",
    "            ]\n",
    "        }\n",
    "    ]\n",
    "}\n"
   ]
  }
 ],
 "metadata": {
  "kernelspec": {
   "display_name": "Python 3",
   "language": "python",
   "name": "python3"
  },
  "language_info": {
   "codemirror_mode": {
    "name": "ipython",
    "version": 3
   },
   "file_extension": ".py",
   "mimetype": "text/x-python",
   "name": "python",
   "nbconvert_exporter": "python",
   "pygments_lexer": "ipython3",
   "version": "3.12.3"
  }
 },
 "nbformat": 4,
 "nbformat_minor": 2
}
