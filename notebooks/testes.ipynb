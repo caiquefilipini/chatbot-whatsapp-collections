{
 "cells": [
  {
   "cell_type": "markdown",
   "metadata": {},
   "source": [
    "# Libs"
   ]
  },
  {
   "cell_type": "code",
   "execution_count": 18,
   "metadata": {},
   "outputs": [],
   "source": [
    "import os\n",
    "import pandas as pd\n",
    "from datetime import datetime\n",
    "from dateutil.relativedelta import relativedelta\n",
    "import sqlite3\n",
    "from pymongo import MongoClient\n",
    "import json\n",
    "from bson import ObjectId"
   ]
  },
  {
   "cell_type": "markdown",
   "metadata": {},
   "source": [
    "# Conexão MongoDB"
   ]
  },
  {
   "cell_type": "code",
   "execution_count": 200,
   "metadata": {},
   "outputs": [],
   "source": [
    "def conectar_mongo():\n",
    "    try:\n",
    "        client = MongoClient('mongodb://localhost:27017/', serverSelectionTimeoutMS=5000)\n",
    "        client.server_info()  # Gera uma exceção se não conseguir conectar\n",
    "        print(\"Conexão com MongoDB bem-sucedida.\")\n",
    "        if client:\n",
    "            db = client['db_conversas']\n",
    "            collection = db['clientes_conversas']\n",
    "        return client, db, collection\n",
    "    except Exception as e:\n",
    "        print(f\"Erro ao conectar ao MongoDB: {e}\")\n",
    "        return None"
   ]
  },
  {
   "cell_type": "code",
   "execution_count": 201,
   "metadata": {},
   "outputs": [
    {
     "name": "stdout",
     "output_type": "stream",
     "text": [
      "Conexão com MongoDB bem-sucedida.\n"
     ]
    }
   ],
   "source": [
    "client, db, collection = conectar_mongo()"
   ]
  },
  {
   "cell_type": "markdown",
   "metadata": {},
   "source": [
    "# Teste SQLite"
   ]
  },
  {
   "cell_type": "code",
   "execution_count": null,
   "metadata": {},
   "outputs": [],
   "source": [
    "base_clientes = pd.read_csv('../data/base_clientes.csv')"
   ]
  },
  {
   "cell_type": "code",
   "execution_count": null,
   "metadata": {},
   "outputs": [
    {
     "data": {
      "text/html": [
       "<div>\n",
       "<style scoped>\n",
       "    .dataframe tbody tr th:only-of-type {\n",
       "        vertical-align: middle;\n",
       "    }\n",
       "\n",
       "    .dataframe tbody tr th {\n",
       "        vertical-align: top;\n",
       "    }\n",
       "\n",
       "    .dataframe thead th {\n",
       "        text-align: right;\n",
       "    }\n",
       "</style>\n",
       "<table border=\"1\" class=\"dataframe\">\n",
       "  <thead>\n",
       "    <tr style=\"text-align: right;\">\n",
       "      <th></th>\n",
       "      <th>cpf</th>\n",
       "      <th>nome</th>\n",
       "      <th>segmento</th>\n",
       "      <th>qtd_cont</th>\n",
       "      <th>vlr_total_div</th>\n",
       "      <th>max_dias_atraso</th>\n",
       "    </tr>\n",
       "  </thead>\n",
       "  <tbody>\n",
       "    <tr>\n",
       "      <th>0</th>\n",
       "      <td>42006925890</td>\n",
       "      <td>Bryan Campos</td>\n",
       "      <td>Van Gogh</td>\n",
       "      <td>10</td>\n",
       "      <td>5000</td>\n",
       "      <td>60</td>\n",
       "    </tr>\n",
       "    <tr>\n",
       "      <th>1</th>\n",
       "      <td>34366343878</td>\n",
       "      <td>Juan Moura</td>\n",
       "      <td>Private</td>\n",
       "      <td>5</td>\n",
       "      <td>2000</td>\n",
       "      <td>30</td>\n",
       "    </tr>\n",
       "    <tr>\n",
       "      <th>2</th>\n",
       "      <td>72388905850</td>\n",
       "      <td>Ana Sophia da Cruz</td>\n",
       "      <td>Van Gogh</td>\n",
       "      <td>1</td>\n",
       "      <td>2293</td>\n",
       "      <td>28</td>\n",
       "    </tr>\n",
       "    <tr>\n",
       "      <th>3</th>\n",
       "      <td>85044167398</td>\n",
       "      <td>Marina Moraes</td>\n",
       "      <td>Especial</td>\n",
       "      <td>7</td>\n",
       "      <td>2685</td>\n",
       "      <td>42</td>\n",
       "    </tr>\n",
       "    <tr>\n",
       "      <th>4</th>\n",
       "      <td>86406862031</td>\n",
       "      <td>Marcos Vinicius Cardoso</td>\n",
       "      <td>Van Gogh</td>\n",
       "      <td>13</td>\n",
       "      <td>9173</td>\n",
       "      <td>50</td>\n",
       "    </tr>\n",
       "  </tbody>\n",
       "</table>\n",
       "</div>"
      ],
      "text/plain": [
       "           cpf                     nome  segmento  qtd_cont  vlr_total_div  \\\n",
       "0  42006925890             Bryan Campos  Van Gogh        10           5000   \n",
       "1  34366343878               Juan Moura   Private         5           2000   \n",
       "2  72388905850       Ana Sophia da Cruz  Van Gogh         1           2293   \n",
       "3  85044167398            Marina Moraes  Especial         7           2685   \n",
       "4  86406862031  Marcos Vinicius Cardoso  Van Gogh        13           9173   \n",
       "\n",
       "   max_dias_atraso  \n",
       "0               60  \n",
       "1               30  \n",
       "2               28  \n",
       "3               42  \n",
       "4               50  "
      ]
     },
     "metadata": {},
     "output_type": "display_data"
    }
   ],
   "source": [
    "base_clientes.head()"
   ]
  },
  {
   "cell_type": "code",
   "execution_count": null,
   "metadata": {},
   "outputs": [],
   "source": [
    "# Especificar o caminho para o diretório onde o banco de dados está localizado\n",
    "path = \"../data/\"\n",
    "\n",
    "# Especificar o valor do CPF como uma string entre aspas simples\n",
    "cpf_value = 42006925890\n",
    "query = f\"SELECT * FROM customer_database_table WHERE cpf = '{cpf_value}'\"\n",
    "\n",
    "# Usar a declaração `with` para gerenciar a conexão ao banco de dados SQLite\n",
    "with sqlite3.connect(os.path.join(path, 'customer_database.sqlite')) as conn:\n",
    "    # Executar a consulta SQL e ler o resultado em um DataFrame do pandas\n",
    "    base = pd.read_sql_query(query, conn)"
   ]
  },
  {
   "cell_type": "code",
   "execution_count": null,
   "metadata": {},
   "outputs": [
    {
     "data": {
      "text/html": [
       "<div>\n",
       "<style scoped>\n",
       "    .dataframe tbody tr th:only-of-type {\n",
       "        vertical-align: middle;\n",
       "    }\n",
       "\n",
       "    .dataframe tbody tr th {\n",
       "        vertical-align: top;\n",
       "    }\n",
       "\n",
       "    .dataframe thead th {\n",
       "        text-align: right;\n",
       "    }\n",
       "</style>\n",
       "<table border=\"1\" class=\"dataframe\">\n",
       "  <thead>\n",
       "    <tr style=\"text-align: right;\">\n",
       "      <th></th>\n",
       "      <th>cpf</th>\n",
       "      <th>nome</th>\n",
       "      <th>segmento</th>\n",
       "      <th>qtd_cont</th>\n",
       "      <th>vlr_total_div</th>\n",
       "      <th>max_dias_atraso</th>\n",
       "    </tr>\n",
       "  </thead>\n",
       "  <tbody>\n",
       "    <tr>\n",
       "      <th>0</th>\n",
       "      <td>42006925890</td>\n",
       "      <td>Bryan Campos</td>\n",
       "      <td>Van Gogh</td>\n",
       "      <td>10</td>\n",
       "      <td>5000</td>\n",
       "      <td>60</td>\n",
       "    </tr>\n",
       "  </tbody>\n",
       "</table>\n",
       "</div>"
      ],
      "text/plain": [
       "           cpf          nome  segmento  qtd_cont  vlr_total_div  \\\n",
       "0  42006925890  Bryan Campos  Van Gogh        10           5000   \n",
       "\n",
       "   max_dias_atraso  \n",
       "0               60  "
      ]
     },
     "metadata": {},
     "output_type": "display_data"
    }
   ],
   "source": [
    "base.head()"
   ]
  },
  {
   "cell_type": "code",
   "execution_count": null,
   "metadata": {},
   "outputs": [
    {
     "data": {
      "text/plain": [
       "array(['Bryan Campos'], dtype=object)"
      ]
     },
     "metadata": {},
     "output_type": "display_data"
    }
   ],
   "source": [
    "base[\"nome\"].values"
   ]
  },
  {
   "cell_type": "markdown",
   "metadata": {},
   "source": [
    "# Teste ordenação lista"
   ]
  },
  {
   "cell_type": "code",
   "execution_count": null,
   "metadata": {},
   "outputs": [
    {
     "name": "stdout",
     "output_type": "stream",
     "text": [
      "[0]\n"
     ]
    }
   ],
   "source": [
    "qtd_msg = 1\n",
    "\n",
    "lista = list(range(qtd_msg))\n",
    "print(lista)"
   ]
  },
  {
   "cell_type": "code",
   "execution_count": null,
   "metadata": {},
   "outputs": [
    {
     "name": "stdout",
     "output_type": "stream",
     "text": [
      "range(0, 1)\n"
     ]
    }
   ],
   "source": [
    "qtd_msg = 1\n",
    "\n",
    "lista = range(qtd_msg)\n",
    "print(lista)"
   ]
  },
  {
   "cell_type": "code",
   "execution_count": null,
   "metadata": {},
   "outputs": [
    {
     "name": "stdout",
     "output_type": "stream",
     "text": [
      "posição 3\n",
      "indice 1\n",
      "posição 2\n",
      "indice 2\n",
      "posição 1\n",
      "indice 3\n",
      "posição 0\n",
      "indice 4\n"
     ]
    }
   ],
   "source": [
    "qtd_msg = 4\n",
    "lista = list(range(qtd_msg - 1, -1, -1))\n",
    "for p, i in enumerate(lista):\n",
    "    print(\"posição\", i)\n",
    "    print(\"indice\", p+1)\n",
    "    "
   ]
  },
  {
   "cell_type": "markdown",
   "metadata": {},
   "source": [
    "# Teste armazenar MongoDB"
   ]
  },
  {
   "cell_type": "code",
   "execution_count": 224,
   "metadata": {},
   "outputs": [
    {
     "name": "stdout",
     "output_type": "stream",
     "text": [
      "Conexão com MongoDB bem-sucedida.\n"
     ]
    }
   ],
   "source": [
    "client, db, collection = conectar_mongo() # Conectar ao banco de dados"
   ]
  },
  {
   "cell_type": "markdown",
   "metadata": {},
   "source": [
    "Funções para inserir cliente e mensagem"
   ]
  },
  {
   "cell_type": "code",
   "execution_count": 225,
   "metadata": {},
   "outputs": [],
   "source": [
    "def inserir_cliente():\n",
    "    cliente = collection.find_one({\"cpf\": cpf})\n",
    "    # Inserir novo cliente se não existir\n",
    "    if not cliente:\n",
    "        collection.insert_one({\n",
    "            \"cpf\": cpf,\n",
    "            \"conversas\": [\n",
    "                {\n",
    "                    \"assunto\": assunto,\n",
    "                    \"chats\": [\n",
    "                        {\n",
    "                            \"data_hora_inicio\": dt_hr_ini,\n",
    "                            \"mensagens\": []\n",
    "                        }\n",
    "                    ]\n",
    "                }\n",
    "            ]\n",
    "        })\n",
    "    else:\n",
    "        # Inserir nova conversa caso o cliente já existir na base\n",
    "        assunto_existe = collection.find_one({\"cpf\": cpf, \"conversas.assunto\": assunto})\n",
    "        if not assunto_existe:\n",
    "            # Adicionar um novo assunto com o chat inicial\n",
    "            collection.update_one(\n",
    "                {\"cpf\": cpf},\n",
    "                {\"$push\": {\n",
    "                    \"conversas\": {\n",
    "                        \"assunto\": assunto,\n",
    "                        \"chats\": [\n",
    "                            {\n",
    "                                \"data_hora_inicio\": dt_hr_ini,\n",
    "                                \"mensagens\": []\n",
    "                            }\n",
    "                        ]\n",
    "                    }\n",
    "                }}\n",
    "            )\n",
    "        else:\n",
    "            # Adicionar um novo chat ao assunto existente\n",
    "            collection.update_one(\n",
    "                {\"cpf\": cpf, \"conversas.assunto\": assunto},\n",
    "                {\"$push\": {\n",
    "                    \"conversas.$.chats\": {\n",
    "                        \"data_hora_inicio\": dt_hr_ini,\n",
    "                        \"mensagens\": []\n",
    "                    }\n",
    "                }}\n",
    "            )\n"
   ]
  },
  {
   "cell_type": "code",
   "execution_count": 226,
   "metadata": {},
   "outputs": [],
   "source": [
    "def inserir_mensagem(dict_mensagem):\n",
    "    collection.update_one(\n",
    "        {\"cpf\": cpf},\n",
    "        {\"$push\": {\"conversas.$[conversa].chats.$[chat].mensagens\": dict_mensagem}},\n",
    "        array_filters=[\n",
    "            {\"conversa.assunto\": assunto},\n",
    "            {\"chat.data_hora_inicio\": dt_hr_ini}\n",
    "        ]\n",
    "    )"
   ]
  },
  {
   "cell_type": "markdown",
   "metadata": {},
   "source": [
    "Criando dados fictícios para 2 clientes"
   ]
  },
  {
   "cell_type": "code",
   "execution_count": 227,
   "metadata": {},
   "outputs": [],
   "source": [
    "cliente_1_negociacao_1 = {\n",
    "    \"cpf\": 34366343878,\n",
    "    \"assunto\": \"Negociação\",\n",
    "    \"dt_hr_ini\":\"2024-07-04 09:00:00\",\n",
    "}\n",
    "\n",
    "cliente_1_negociacao_2 = {\n",
    "    \"cpf\": 34366343878,\n",
    "    \"assunto\": \"Reclamação\",\n",
    "    \"dt_hr_ini\":\"2024-07-08 08:30:00\",\n",
    "}\n",
    "\n",
    "cliente_2_negociacao_1 = {\n",
    "    \"cpf\": 72388905850,\n",
    "    \"assunto\": \"Negociação\",\n",
    "    \"dt_hr_ini\":\"2024-07-04 09:00:00\",\n",
    "}\n",
    "\n",
    "cliente_2_negociacao_2 = {\n",
    "    \"cpf\": 72388905850,\n",
    "    \"assunto\": \"Negociação\",\n",
    "    \"dt_hr_ini\":\"2024-07-07 10:00:00\",\n",
    "}\n",
    "\n",
    "cliente_2_boleto = {\n",
    "    \"cpf\": 72388905850,\n",
    "    \"assunto\": \"Boleto\",\n",
    "    \"dt_hr_ini\":\"2024-07-06 15:30:00\",\n",
    "}\n"
   ]
  },
  {
   "cell_type": "code",
   "execution_count": 228,
   "metadata": {},
   "outputs": [],
   "source": [
    "mensagens_cliente_1_negociacao_1 = [\n",
    "    {\n",
    "        \"id\": 1,\n",
    "        \"data_hora\": \"2024-07-04 09:00:00\",\n",
    "        \"mensagem_cliente\": \"Bom dia, meu nome é João e estou entrando em contato porque estou com dificuldades para pagar a dívida que tenho com vocês. Gostaria de saber se existe alguma forma de negociarmos esse valor para facilitar o pagamento.\",\n",
    "        \"sugestao_ia\": \"Olá, João! Agradeço seu contato e estou aqui para ajudá-lo.\",\n",
    "        \"rating_sugestao_ia\": 3,\n",
    "        \"resposta_final_operador\": \"Olá, João! Agradeço seu contato e estou aqui para ajudá-lo. Vamos verificar o que podemos fazer. Uma opção seria parcelar a dívida em termos que caberiam melhor no seu orçamento mensal. Outra possibilidade seria aplicarmos um desconto para pagamento à vista. O que acha dessas opções?\"\n",
    "    },\n",
    "    {\n",
    "        \"id\": 2,\n",
    "        \"data_hora\": \"2024-07-04 09:05:00\",\n",
    "        \"mensagem_cliente\": \"Agradeço a compreensão, Carlos. No momento, a opção de parcelamento seria a mais viável para mim. Não tenho como cobrir o valor total imediatamente.\",\n",
    "        \"sugestao_ia\": \"Entendo, João. Vamos estruturar um plano de parcelamento então.\",\n",
    "        \"rating_sugestao_ia\": 4,\n",
    "        \"resposta_final_operador\": \"Entendo, João. Podemos estruturar um plano de parcelamento então. Que tal dividirmos o total devido em 12 meses? Isso ajudaria a ajustar as parcelas ao seu orçamento?\"\n",
    "    },\n",
    "    {\n",
    "        \"id\": 3,\n",
    "        \"data_hora\": \"2024-07-04 09:10:00\",\n",
    "        \"mensagem_cliente\": \"Isso soa bem, Carlos. As parcelas ficariam de quanto, aproximadamente?\",\n",
    "        \"sugestao_ia\": \"Vou calcular aqui rapidamente.\",\n",
    "        \"rating_sugestao_ia\": 3,\n",
    "        \"resposta_final_operador\": \"Vou calcular aqui rapidamente. Considerando o total devido, com o parcelamento em 12 meses, as parcelas ficariam em torno de X reais por mês. Isso seria confortável para você?\"\n",
    "    },\n",
    "    {\n",
    "        \"id\": 4,\n",
    "        \"data_hora\": \"2024-07-04 09:15:00\",\n",
    "        \"mensagem_cliente\": \"Sim, isso eu consigo fazer. Podemos proceder com esse plano então. Como faço para formalizar esse acordo?\",\n",
    "        \"sugestao_ia\": \"Ótimo, João! Vou enviar agora mesmo para seu e-mail um acordo formal.\",\n",
    "        \"rating_sugestao_ia\": 5,\n",
    "        \"resposta_final_operador\": \"Ótimo, João! Vou enviar agora mesmo para seu e-mail um acordo formal com os detalhes do parcelamento e as instruções para assinatura. Assim que receber sua confirmação e assinatura, seu novo plano estará ativo.\"\n",
    "    }\n",
    "]"
   ]
  },
  {
   "cell_type": "code",
   "execution_count": 229,
   "metadata": {},
   "outputs": [],
   "source": [
    "mensagens_cliente_1_negociacao_2 = [\n",
    "    {\n",
    "        \"id\": 1,\n",
    "        \"data_hora\": \"2024-07-08 08:30:00\",\n",
    "        \"mensagem_cliente\": \"Olá, sou o João. Estou enfrentando algumas dificuldades financeiras adicionais e gostaria de discutir a possibilidade de uma pausa nos pagamentos da dívida por alguns meses. Isso é possível?\",\n",
    "        \"sugestao_ia\": \"Olá, João! Vamos ver o que podemos fazer.\",\n",
    "        \"rating_sugestao_ia\": 3,\n",
    "        \"resposta_final_operador\": \"Olá, João! Sinto muito por ouvir isso. Podemos certamente considerar uma pausa no pagamento. Uma opção seria oferecer uma moratória de três meses sem cobrança de juros durante esse período. Isso ajudaria?\"\n",
    "    },\n",
    "    {\n",
    "        \"id\": 2,\n",
    "        \"data_hora\": \"2024-07-08 08:35:00\",\n",
    "        \"mensagem_cliente\": \"Isso seria de grande ajuda. Há alguma condição especial ou penalidade após esse período?\",\n",
    "        \"sugestao_ia\": \"Vamos verificar as condições para você, João.\",\n",
    "        \"rating_sugestao_ia\": 4,\n",
    "        \"resposta_final_operador\": \"Não haverá penalidades, João. Após a pausa de três meses, você retomará os pagamentos como planejado anteriormente, sem alterações no valor ou acréscimos de juros. Isso soa aceitável para você?\"\n",
    "    },\n",
    "    {\n",
    "        \"id\": 3,\n",
    "        \"data_hora\": \"2024-07-08 08:40:00\",\n",
    "        \"mensagem_cliente\": \"Sim, isso parece justo. Vamos prosseguir com essa pausa. O que preciso fazer para formalizar essa alteração?\",\n",
    "        \"sugestao_ia\": \"Preparando a documentação necessária para você.\",\n",
    "        \"rating_sugestao_ia\": 5,\n",
    "        \"resposta_final_operador\": \"Ótimo, João! Vou preparar a documentação necessária e enviar para o seu e-mail para assinatura. Assim que receber sua assinatura, a pausa entrará em vigor. Agradeço a confiança em nos procurar para resolver esta situação.\"\n",
    "    }\n",
    "]"
   ]
  },
  {
   "cell_type": "code",
   "execution_count": 230,
   "metadata": {},
   "outputs": [],
   "source": [
    "mensagens_cliente_2_negociacao_1 = [\n",
    "    {\n",
    "        \"id\": 1,\n",
    "        \"data_hora\": \"2024-07-04 14:00:00\",\n",
    "        \"mensagem_cliente\": \"Olá, aqui é a Ana. Estou passando por um momento financeiro difícil e gostaria de saber se existe alguma possibilidade de renegociarmos a minha dívida para facilitar o pagamento.\",\n",
    "        \"sugestao_ia\": \"Olá, Ana! Estou aqui para ajudar.\",\n",
    "        \"rating_sugestao_ia\": 3,\n",
    "        \"resposta_final_operador\": \"Olá, Ana! Compreendo sua situação e quero ajudá-la. Temos algumas opções, como parcelar a dívida ou oferecer um desconto para pagamento à vista. Qual dessas opções lhe parece mais adequada?\"\n",
    "    },\n",
    "    {\n",
    "        \"id\": 2,\n",
    "        \"data_hora\": \"2024-07-04 14:05:00\",\n",
    "        \"mensagem_cliente\": \"Obrigada pela rápida resposta. Acredito que o parcelamento seria mais adequado para mim no momento, já que não tenho como pagar tudo de uma vez.\",\n",
    "        \"sugestao_ia\": \"Perfeito, Ana. Vamos ver as condições de parcelamento.\",\n",
    "        \"rating_sugestao_ia\": 4,\n",
    "        \"resposta_final_operador\": \"Perfeito, Ana. Podemos parcelar o total devido em várias parcelas. Que tal dividirmos em 24 meses? Isso ajudaria a aliviar seu orçamento mensal?\"\n",
    "    },\n",
    "    {\n",
    "        \"id\": 3,\n",
    "        \"data_hora\": \"2024-07-04 14:10:00\",\n",
    "        \"mensagem_cliente\": \"24 meses seria ótimo, mas quais seriam os valores das parcelas?\",\n",
    "        \"sugestao_ia\": \"Vou calcular os valores para você.\",\n",
    "        \"rating_sugestao_ia\": 4,\n",
    "        \"resposta_final_operador\": \"Com base no total devido, o parcelamento em 24 meses resultaria em parcelas de aproximadamente Y reais cada. Isso se ajustaria ao seu orçamento?\"\n",
    "    },\n",
    "    {\n",
    "        \"id\": 4,\n",
    "        \"data_hora\": \"2024-07-04 14:15:00\",\n",
    "        \"mensagem_cliente\": \"Sim, esse valor é algo que posso gerenciar. Como podemos formalizar esse acordo?\",\n",
    "        \"sugestao_ia\": \"Vou preparar o acordo e enviar para o seu e-mail.\",\n",
    "        \"rating_sugestao_ia\": 5,\n",
    "        \"resposta_final_operador\": \"Ótimo, Ana! Vou preparar o acordo e enviar para o seu e-mail com todos os detalhes e as instruções para a assinatura eletrônica. Assim que receber sua confirmação, o novo plano estará ativo.\"\n",
    "    }\n",
    "]"
   ]
  },
  {
   "cell_type": "code",
   "execution_count": 231,
   "metadata": {},
   "outputs": [],
   "source": [
    "mensagens_cliente_2_negociacao_2 = [\n",
    "    {\n",
    "        \"id\": 1,\n",
    "        \"data_hora\": \"2024-07-07 10:00:00\",\n",
    "        \"mensagem_cliente\": \"Olá, aqui é a Ana novamente. Após revisar meu orçamento, percebi que as parcelas ainda estão um pouco altas para a minha capacidade atual de pagamento. Há alguma forma de reduzirmos ainda mais o valor mensal?\",\n",
    "        \"sugestao_ia\": \"Olá, Ana! Vamos encontrar uma solução juntos.\",\n",
    "        \"rating_sugestao_ia\": 3,\n",
    "        \"resposta_final_operador\": \"Olá, Ana! Obrigado por entrar em contato. Podemos explorar algumas opções para aliviar seu orçamento. Uma possibilidade seria estender o prazo do parcelamento para reduzir o valor mensal. Que tal estendermos para 36 meses?\"\n",
    "    },\n",
    "    {\n",
    "        \"id\": 2,\n",
    "        \"data_hora\": \"2024-07-07 10:05:00\",\n",
    "        \"mensagem_cliente\": \"Estender o prazo pode ser uma boa ideia, mas isso aumentaria muito os juros? Estou tentando evitar mais despesas a longo prazo.\",\n",
    "        \"sugestao_ia\": \"Vamos calcular os juros e ver como fica.\",\n",
    "        \"rating_sugestao_ia\": 4,\n",
    "        \"resposta_final_operador\": \"Compreendo sua preocupação, Ana. Se estendermos para 36 meses, haverá um pequeno aumento na taxa de juros, mas ainda assim o valor mensal seria significativamente menor. Posso fazer uma simulação e enviar-lhe os detalhes para que você possa decidir?\"\n",
    "    },\n",
    "    {\n",
    "        \"id\": 3,\n",
    "        \"data_hora\": \"2024-07-07 10:10:00\",\n",
    "        \"mensagem_cliente\": \"Por favor, faça a simulação. Quero ver todos os números antes de tomar uma decisão.\",\n",
    "        \"sugestao_ia\": \"Simulação em andamento, Ana.\",\n",
    "        \"rating_sugestao_ia\": 4,\n",
    "        \"resposta_final_operador\": \"Perfeito, Ana! Estou enviando para o seu e-mail uma simulação detalhada com os novos valores mensais e o total de juros. Assim que revisar, me avise se deseja prosseguir com esta nova condição ou se podemos buscar outra alternativa.\"\n",
    "    }\n",
    "]"
   ]
  },
  {
   "cell_type": "code",
   "execution_count": 232,
   "metadata": {},
   "outputs": [],
   "source": [
    "mensagens_cliente_2_boleto = [\n",
    "    {\n",
    "        \"id\": 1,\n",
    "        \"data_hora\": \"2024-07-05 10:00:00\",\n",
    "        \"mensagem_cliente\": \"Bom dia! Sou a Ana, e eu não recebi o boleto para pagamento da parcela deste mês. Vocês poderiam me enviar novamente?\",\n",
    "        \"sugestao_ia\": \"Bom dia, Ana! Claro, vamos verificar isso para você.\",\n",
    "        \"rating_sugestao_ia\": 3,\n",
    "        \"resposta_final_operador\": \"Bom dia, Ana! Peço desculpas pelo transtorno. Vou verificar no sistema e encaminhar o boleto para o seu e-mail imediatamente. Pode me confirmar se o endereço de e-mail para envio continua sendo ana@example.com?\"\n",
    "    },\n",
    "    {\n",
    "        \"id\": 2,\n",
    "        \"data_hora\": \"2024-07-05 10:02:00\",\n",
    "        \"mensagem_cliente\": \"Isso mesmo, o e-mail está correto. Obrigada por verificar tão rápido!\",\n",
    "        \"sugestao_ia\": \"Nada que agradecer, Ana! Vou enviar agora.\",\n",
    "        \"rating_sugestao_ia\": 4,\n",
    "        \"resposta_final_operador\": \"Perfeito, Ana! Já enviei o boleto para o seu e-mail. Você deve recebê-lo dentro de alguns minutos. Por favor, verifique também a sua caixa de spam, caso não encontre na caixa de entrada.\"\n",
    "    },\n",
    "    {\n",
    "        \"id\": 3,\n",
    "        \"data_hora\": \"2024-07-05 10:05:00\",\n",
    "        \"mensagem_cliente\": \"Recebi o boleto, muito obrigada pela ajuda rápida! Aproveitando, há algum desconto para pagamento antecipado?\",\n",
    "        \"sugestao_ia\": \"Que bom que deu tudo certo, Ana! Vou verificar sobre o desconto.\",\n",
    "        \"rating_sugestao_ia\": 3,\n",
    "        \"resposta_final_operador\": \"Que bom que recebeu, Ana! Sobre o pagamento antecipado, oferecemos um desconto de 5% para pagamentos realizados até 5 dias antes do vencimento. Se interessar, posso recalcular o boleto com o desconto.\"\n",
    "    }\n",
    "]"
   ]
  },
  {
   "cell_type": "markdown",
   "metadata": {},
   "source": [
    "Inserindo as informações no banco de dados"
   ]
  },
  {
   "cell_type": "code",
   "execution_count": 233,
   "metadata": {},
   "outputs": [
    {
     "data": {
      "text/plain": [
       "DeleteResult({'n': 4, 'ok': 1.0}, acknowledged=True)"
      ]
     },
     "execution_count": 233,
     "metadata": {},
     "output_type": "execute_result"
    }
   ],
   "source": [
    "collection.delete_many({}) # limpar base antes"
   ]
  },
  {
   "cell_type": "code",
   "execution_count": 234,
   "metadata": {},
   "outputs": [],
   "source": [
    "lista_clientes = [\n",
    "    cliente_1_negociacao_1,\n",
    "    cliente_1_negociacao_2,\n",
    "    cliente_2_negociacao_1,\n",
    "    cliente_2_negociacao_2,\n",
    "    cliente_2_boleto\n",
    "]"
   ]
  },
  {
   "cell_type": "code",
   "execution_count": 235,
   "metadata": {},
   "outputs": [],
   "source": [
    "lista_mensagens = [\n",
    "    mensagens_cliente_1_negociacao_1,\n",
    "    mensagens_cliente_1_negociacao_2,\n",
    "    mensagens_cliente_2_negociacao_1,\n",
    "    mensagens_cliente_2_negociacao_2,\n",
    "    mensagens_cliente_2_boleto\n",
    "]"
   ]
  },
  {
   "cell_type": "code",
   "execution_count": 236,
   "metadata": {},
   "outputs": [],
   "source": [
    "for c, m in zip(lista_clientes, lista_mensagens):\n",
    "    cpf = c[\"cpf\"]\n",
    "    assunto = c[\"assunto\"]\n",
    "    dt_hr_ini = c[\"dt_hr_ini\"]\n",
    "    inserir_cliente()\n",
    "    for i in m:\n",
    "        inserir_mensagem(i)"
   ]
  },
  {
   "cell_type": "markdown",
   "metadata": {},
   "source": [
    "Função para visualizar os dados"
   ]
  },
  {
   "cell_type": "code",
   "execution_count": 237,
   "metadata": {},
   "outputs": [],
   "source": [
    "# Função personalizada para serializar ObjectId\n",
    "class JSONEncoder(json.JSONEncoder):\n",
    "    def default(self, obj):\n",
    "        if isinstance(obj, ObjectId):\n",
    "            return str(obj)\n",
    "        return json.JSONEncoder.default(self, obj)"
   ]
  },
  {
   "cell_type": "code",
   "execution_count": 238,
   "metadata": {},
   "outputs": [],
   "source": [
    "# Consultar todos os documentos na coleção\n",
    "def consultar_todos():\n",
    "    documentos = collection.find()\n",
    "    for doc in documentos:\n",
    "        print(json.dumps(doc, indent=4, ensure_ascii=False, cls=JSONEncoder))\n",
    "\n",
    "# Consultar documentos com uma condição\n",
    "def consultar_condicao(cpf):\n",
    "    documento = collection.find_one({\"cpf\": cpf})\n",
    "    if documento:\n",
    "        json.dumps(documento, indent=4, ensure_ascii=False, cls=JSONEncoder)\n",
    "    else:\n",
    "        print(f\"Nenhum documento encontrado para o CPF {cpf}\")"
   ]
  },
  {
   "cell_type": "code",
   "execution_count": 239,
   "metadata": {},
   "outputs": [
    {
     "name": "stdout",
     "output_type": "stream",
     "text": [
      "{\n",
      "    \"_id\": \"66882be7dcb6eae524472ed1\",\n",
      "    \"cpf\": 34366343878,\n",
      "    \"conversas\": [\n",
      "        {\n",
      "            \"assunto\": \"Negociação\",\n",
      "            \"chats\": [\n",
      "                {\n",
      "                    \"data_hora_inicio\": \"2024-07-04 09:00:00\",\n",
      "                    \"mensagens\": [\n",
      "                        {\n",
      "                            \"id\": 1,\n",
      "                            \"data_hora\": \"2024-07-04 09:00:00\",\n",
      "                            \"mensagem_cliente\": \"Bom dia, meu nome é João e estou entrando em contato porque estou com dificuldades para pagar a dívida que tenho com vocês. Gostaria de saber se existe alguma forma de negociarmos esse valor para facilitar o pagamento.\",\n",
      "                            \"sugestao_ia\": \"Olá, João! Agradeço seu contato e estou aqui para ajudá-lo.\",\n",
      "                            \"rating_sugestao_ia\": 3,\n",
      "                            \"resposta_final_operador\": \"Olá, João! Agradeço seu contato e estou aqui para ajudá-lo. Vamos verificar o que podemos fazer. Uma opção seria parcelar a dívida em termos que caberiam melhor no seu orçamento mensal. Outra possibilidade seria aplicarmos um desconto para pagamento à vista. O que acha dessas opções?\"\n",
      "                        },\n",
      "                        {\n",
      "                            \"id\": 2,\n",
      "                            \"data_hora\": \"2024-07-04 09:05:00\",\n",
      "                            \"mensagem_cliente\": \"Agradeço a compreensão, Carlos. No momento, a opção de parcelamento seria a mais viável para mim. Não tenho como cobrir o valor total imediatamente.\",\n",
      "                            \"sugestao_ia\": \"Entendo, João. Vamos estruturar um plano de parcelamento então.\",\n",
      "                            \"rating_sugestao_ia\": 4,\n",
      "                            \"resposta_final_operador\": \"Entendo, João. Podemos estruturar um plano de parcelamento então. Que tal dividirmos o total devido em 12 meses? Isso ajudaria a ajustar as parcelas ao seu orçamento?\"\n",
      "                        },\n",
      "                        {\n",
      "                            \"id\": 3,\n",
      "                            \"data_hora\": \"2024-07-04 09:10:00\",\n",
      "                            \"mensagem_cliente\": \"Isso soa bem, Carlos. As parcelas ficariam de quanto, aproximadamente?\",\n",
      "                            \"sugestao_ia\": \"Vou calcular aqui rapidamente.\",\n",
      "                            \"rating_sugestao_ia\": 3,\n",
      "                            \"resposta_final_operador\": \"Vou calcular aqui rapidamente. Considerando o total devido, com o parcelamento em 12 meses, as parcelas ficariam em torno de X reais por mês. Isso seria confortável para você?\"\n",
      "                        },\n",
      "                        {\n",
      "                            \"id\": 4,\n",
      "                            \"data_hora\": \"2024-07-04 09:15:00\",\n",
      "                            \"mensagem_cliente\": \"Sim, isso eu consigo fazer. Podemos proceder com esse plano então. Como faço para formalizar esse acordo?\",\n",
      "                            \"sugestao_ia\": \"Ótimo, João! Vou enviar agora mesmo para seu e-mail um acordo formal.\",\n",
      "                            \"rating_sugestao_ia\": 5,\n",
      "                            \"resposta_final_operador\": \"Ótimo, João! Vou enviar agora mesmo para seu e-mail um acordo formal com os detalhes do parcelamento e as instruções para assinatura. Assim que receber sua confirmação e assinatura, seu novo plano estará ativo.\"\n",
      "                        }\n",
      "                    ]\n",
      "                }\n",
      "            ]\n",
      "        },\n",
      "        {\n",
      "            \"assunto\": \"Reclamação\",\n",
      "            \"chats\": [\n",
      "                {\n",
      "                    \"data_hora_inicio\": \"2024-07-08 08:30:00\",\n",
      "                    \"mensagens\": [\n",
      "                        {\n",
      "                            \"id\": 1,\n",
      "                            \"data_hora\": \"2024-07-08 08:30:00\",\n",
      "                            \"mensagem_cliente\": \"Olá, sou o João. Estou enfrentando algumas dificuldades financeiras adicionais e gostaria de discutir a possibilidade de uma pausa nos pagamentos da dívida por alguns meses. Isso é possível?\",\n",
      "                            \"sugestao_ia\": \"Olá, João! Vamos ver o que podemos fazer.\",\n",
      "                            \"rating_sugestao_ia\": 3,\n",
      "                            \"resposta_final_operador\": \"Olá, João! Sinto muito por ouvir isso. Podemos certamente considerar uma pausa no pagamento. Uma opção seria oferecer uma moratória de três meses sem cobrança de juros durante esse período. Isso ajudaria?\"\n",
      "                        },\n",
      "                        {\n",
      "                            \"id\": 2,\n",
      "                            \"data_hora\": \"2024-07-08 08:35:00\",\n",
      "                            \"mensagem_cliente\": \"Isso seria de grande ajuda. Há alguma condição especial ou penalidade após esse período?\",\n",
      "                            \"sugestao_ia\": \"Vamos verificar as condições para você, João.\",\n",
      "                            \"rating_sugestao_ia\": 4,\n",
      "                            \"resposta_final_operador\": \"Não haverá penalidades, João. Após a pausa de três meses, você retomará os pagamentos como planejado anteriormente, sem alterações no valor ou acréscimos de juros. Isso soa aceitável para você?\"\n",
      "                        },\n",
      "                        {\n",
      "                            \"id\": 3,\n",
      "                            \"data_hora\": \"2024-07-08 08:40:00\",\n",
      "                            \"mensagem_cliente\": \"Sim, isso parece justo. Vamos prosseguir com essa pausa. O que preciso fazer para formalizar essa alteração?\",\n",
      "                            \"sugestao_ia\": \"Preparando a documentação necessária para você.\",\n",
      "                            \"rating_sugestao_ia\": 5,\n",
      "                            \"resposta_final_operador\": \"Ótimo, João! Vou preparar a documentação necessária e enviar para o seu e-mail para assinatura. Assim que receber sua assinatura, a pausa entrará em vigor. Agradeço a confiança em nos procurar para resolver esta situação.\"\n",
      "                        }\n",
      "                    ]\n",
      "                }\n",
      "            ]\n",
      "        }\n",
      "    ]\n",
      "}\n",
      "{\n",
      "    \"_id\": \"66882be7dcb6eae524472ed2\",\n",
      "    \"cpf\": 72388905850,\n",
      "    \"conversas\": [\n",
      "        {\n",
      "            \"assunto\": \"Negociação\",\n",
      "            \"chats\": [\n",
      "                {\n",
      "                    \"data_hora_inicio\": \"2024-07-04 09:00:00\",\n",
      "                    \"mensagens\": [\n",
      "                        {\n",
      "                            \"id\": 1,\n",
      "                            \"data_hora\": \"2024-07-04 14:00:00\",\n",
      "                            \"mensagem_cliente\": \"Olá, aqui é a Ana. Estou passando por um momento financeiro difícil e gostaria de saber se existe alguma possibilidade de renegociarmos a minha dívida para facilitar o pagamento.\",\n",
      "                            \"sugestao_ia\": \"Olá, Ana! Estou aqui para ajudar.\",\n",
      "                            \"rating_sugestao_ia\": 3,\n",
      "                            \"resposta_final_operador\": \"Olá, Ana! Compreendo sua situação e quero ajudá-la. Temos algumas opções, como parcelar a dívida ou oferecer um desconto para pagamento à vista. Qual dessas opções lhe parece mais adequada?\"\n",
      "                        },\n",
      "                        {\n",
      "                            \"id\": 2,\n",
      "                            \"data_hora\": \"2024-07-04 14:05:00\",\n",
      "                            \"mensagem_cliente\": \"Obrigada pela rápida resposta. Acredito que o parcelamento seria mais adequado para mim no momento, já que não tenho como pagar tudo de uma vez.\",\n",
      "                            \"sugestao_ia\": \"Perfeito, Ana. Vamos ver as condições de parcelamento.\",\n",
      "                            \"rating_sugestao_ia\": 4,\n",
      "                            \"resposta_final_operador\": \"Perfeito, Ana. Podemos parcelar o total devido em várias parcelas. Que tal dividirmos em 24 meses? Isso ajudaria a aliviar seu orçamento mensal?\"\n",
      "                        },\n",
      "                        {\n",
      "                            \"id\": 3,\n",
      "                            \"data_hora\": \"2024-07-04 14:10:00\",\n",
      "                            \"mensagem_cliente\": \"24 meses seria ótimo, mas quais seriam os valores das parcelas?\",\n",
      "                            \"sugestao_ia\": \"Vou calcular os valores para você.\",\n",
      "                            \"rating_sugestao_ia\": 4,\n",
      "                            \"resposta_final_operador\": \"Com base no total devido, o parcelamento em 24 meses resultaria em parcelas de aproximadamente Y reais cada. Isso se ajustaria ao seu orçamento?\"\n",
      "                        },\n",
      "                        {\n",
      "                            \"id\": 4,\n",
      "                            \"data_hora\": \"2024-07-04 14:15:00\",\n",
      "                            \"mensagem_cliente\": \"Sim, esse valor é algo que posso gerenciar. Como podemos formalizar esse acordo?\",\n",
      "                            \"sugestao_ia\": \"Vou preparar o acordo e enviar para o seu e-mail.\",\n",
      "                            \"rating_sugestao_ia\": 5,\n",
      "                            \"resposta_final_operador\": \"Ótimo, Ana! Vou preparar o acordo e enviar para o seu e-mail com todos os detalhes e as instruções para a assinatura eletrônica. Assim que receber sua confirmação, o novo plano estará ativo.\"\n",
      "                        }\n",
      "                    ]\n",
      "                },\n",
      "                {\n",
      "                    \"data_hora_inicio\": \"2024-07-07 10:00:00\",\n",
      "                    \"mensagens\": [\n",
      "                        {\n",
      "                            \"id\": 1,\n",
      "                            \"data_hora\": \"2024-07-07 10:00:00\",\n",
      "                            \"mensagem_cliente\": \"Olá, aqui é a Ana novamente. Após revisar meu orçamento, percebi que as parcelas ainda estão um pouco altas para a minha capacidade atual de pagamento. Há alguma forma de reduzirmos ainda mais o valor mensal?\",\n",
      "                            \"sugestao_ia\": \"Olá, Ana! Vamos encontrar uma solução juntos.\",\n",
      "                            \"rating_sugestao_ia\": 3,\n",
      "                            \"resposta_final_operador\": \"Olá, Ana! Obrigado por entrar em contato. Podemos explorar algumas opções para aliviar seu orçamento. Uma possibilidade seria estender o prazo do parcelamento para reduzir o valor mensal. Que tal estendermos para 36 meses?\"\n",
      "                        },\n",
      "                        {\n",
      "                            \"id\": 2,\n",
      "                            \"data_hora\": \"2024-07-07 10:05:00\",\n",
      "                            \"mensagem_cliente\": \"Estender o prazo pode ser uma boa ideia, mas isso aumentaria muito os juros? Estou tentando evitar mais despesas a longo prazo.\",\n",
      "                            \"sugestao_ia\": \"Vamos calcular os juros e ver como fica.\",\n",
      "                            \"rating_sugestao_ia\": 4,\n",
      "                            \"resposta_final_operador\": \"Compreendo sua preocupação, Ana. Se estendermos para 36 meses, haverá um pequeno aumento na taxa de juros, mas ainda assim o valor mensal seria significativamente menor. Posso fazer uma simulação e enviar-lhe os detalhes para que você possa decidir?\"\n",
      "                        },\n",
      "                        {\n",
      "                            \"id\": 3,\n",
      "                            \"data_hora\": \"2024-07-07 10:10:00\",\n",
      "                            \"mensagem_cliente\": \"Por favor, faça a simulação. Quero ver todos os números antes de tomar uma decisão.\",\n",
      "                            \"sugestao_ia\": \"Simulação em andamento, Ana.\",\n",
      "                            \"rating_sugestao_ia\": 4,\n",
      "                            \"resposta_final_operador\": \"Perfeito, Ana! Estou enviando para o seu e-mail uma simulação detalhada com os novos valores mensais e o total de juros. Assim que revisar, me avise se deseja prosseguir com esta nova condição ou se podemos buscar outra alternativa.\"\n",
      "                        }\n",
      "                    ]\n",
      "                }\n",
      "            ]\n",
      "        },\n",
      "        {\n",
      "            \"assunto\": \"Boleto\",\n",
      "            \"chats\": [\n",
      "                {\n",
      "                    \"data_hora_inicio\": \"2024-07-06 15:30:00\",\n",
      "                    \"mensagens\": [\n",
      "                        {\n",
      "                            \"id\": 1,\n",
      "                            \"data_hora\": \"2024-07-05 10:00:00\",\n",
      "                            \"mensagem_cliente\": \"Bom dia! Sou a Ana, e eu não recebi o boleto para pagamento da parcela deste mês. Vocês poderiam me enviar novamente?\",\n",
      "                            \"sugestao_ia\": \"Bom dia, Ana! Claro, vamos verificar isso para você.\",\n",
      "                            \"rating_sugestao_ia\": 3,\n",
      "                            \"resposta_final_operador\": \"Bom dia, Ana! Peço desculpas pelo transtorno. Vou verificar no sistema e encaminhar o boleto para o seu e-mail imediatamente. Pode me confirmar se o endereço de e-mail para envio continua sendo ana@example.com?\"\n",
      "                        },\n",
      "                        {\n",
      "                            \"id\": 2,\n",
      "                            \"data_hora\": \"2024-07-05 10:02:00\",\n",
      "                            \"mensagem_cliente\": \"Isso mesmo, o e-mail está correto. Obrigada por verificar tão rápido!\",\n",
      "                            \"sugestao_ia\": \"Nada que agradecer, Ana! Vou enviar agora.\",\n",
      "                            \"rating_sugestao_ia\": 4,\n",
      "                            \"resposta_final_operador\": \"Perfeito, Ana! Já enviei o boleto para o seu e-mail. Você deve recebê-lo dentro de alguns minutos. Por favor, verifique também a sua caixa de spam, caso não encontre na caixa de entrada.\"\n",
      "                        },\n",
      "                        {\n",
      "                            \"id\": 3,\n",
      "                            \"data_hora\": \"2024-07-05 10:05:00\",\n",
      "                            \"mensagem_cliente\": \"Recebi o boleto, muito obrigada pela ajuda rápida! Aproveitando, há algum desconto para pagamento antecipado?\",\n",
      "                            \"sugestao_ia\": \"Que bom que deu tudo certo, Ana! Vou verificar sobre o desconto.\",\n",
      "                            \"rating_sugestao_ia\": 3,\n",
      "                            \"resposta_final_operador\": \"Que bom que recebeu, Ana! Sobre o pagamento antecipado, oferecemos um desconto de 5% para pagamentos realizados até 5 dias antes do vencimento. Se interessar, posso recalcular o boleto com o desconto.\"\n",
      "                        }\n",
      "                    ]\n",
      "                }\n",
      "            ]\n",
      "        }\n",
      "    ]\n",
      "}\n"
     ]
    }
   ],
   "source": [
    "consultar_todos()\n",
    "# consultar_condicao(72388905850)"
   ]
  },
  {
   "cell_type": "markdown",
   "metadata": {},
   "source": [
    "Validado - OK!"
   ]
  },
  {
   "cell_type": "markdown",
   "metadata": {},
   "source": [
    "# Teste leitura dados MongoDB"
   ]
  },
  {
   "cell_type": "code",
   "execution_count": 41,
   "metadata": {},
   "outputs": [],
   "source": [
    "documentos = collection.find()"
   ]
  },
  {
   "cell_type": "code",
   "execution_count": 43,
   "metadata": {},
   "outputs": [],
   "source": [
    "# Percorre os documentos para extrair as informações necessárias\n",
    "documentos = collection.find()\n",
    "conversas_lista = []\n",
    "for documento in documentos:\n",
    "    cpf = documento[\"cpf\"]\n",
    "    for conversa in documento[\"conversas\"]:\n",
    "        assunto = conversa[\"assunto\"]\n",
    "        for chat in conversa[\"chats\"]:\n",
    "            data_hora_inicio = chat[\"data_hora_inicio\"]\n",
    "            conversas_lista.append(f\"{data_hora_inicio} - {cpf} - {assunto}\")"
   ]
  },
  {
   "cell_type": "code",
   "execution_count": 44,
   "metadata": {},
   "outputs": [
    {
     "name": "stdout",
     "output_type": "stream",
     "text": [
      "2024-06-27 - 34343434343 - Reclamação\n",
      "2024-06-27 - 34343434343 - Reclamação\n",
      "2024-06-27 - 42006925890 - Reclamação\n"
     ]
    }
   ],
   "source": [
    "# Ordena a lista por data\n",
    "conversas_lista.sort()\n",
    "\n",
    "# Exibe a lista ordenada\n",
    "for conversa in conversas_lista:\n",
    "    print(conversa)"
   ]
  },
  {
   "cell_type": "code",
   "execution_count": null,
   "metadata": {},
   "outputs": [],
   "source": [
    "# Percorre o dicionário para extrair as informações necessárias\n",
    "for pessoa in dicionario:\n",
    "    cpf = pessoa[\"cpf\"]\n",
    "    for conversa in pessoa[\"conversas\"]:\n",
    "        assunto = conversa[\"assunto\"]\n",
    "        for chat in conversa[\"chats\"]:\n",
    "            data_hora_inicio = chat[\"data_hora_inicio\"]\n",
    "            conversas_lista.append(f\"{data_hora_inicio} - {cpf} - {assunto}\")\n",
    "\n",
    "# Ordena a lista por data\n",
    "conversas_lista.sort()\n",
    "\n",
    "# Exibe a lista ordenada\n",
    "for conversa in conversas_lista:\n",
    "    print(conversa)"
   ]
  },
  {
   "cell_type": "code",
   "execution_count": 2,
   "metadata": {},
   "outputs": [],
   "source": [
    "lista = [\"2024-06-27 - 42006925890 - Reclamação\", \"2024-06-27 - 42006925890 - Boleto\"]"
   ]
  },
  {
   "cell_type": "code",
   "execution_count": 4,
   "metadata": {},
   "outputs": [
    {
     "data": {
      "text/plain": [
       "['2024-06-27 - 42006925890 - Reclamação', '2024-06-27 - 42006925890 - Boleto']"
      ]
     },
     "execution_count": 4,
     "metadata": {},
     "output_type": "execute_result"
    }
   ],
   "source": [
    "lista[:]"
   ]
  },
  {
   "cell_type": "code",
   "execution_count": 49,
   "metadata": {},
   "outputs": [],
   "source": [
    "lista2 = []\n",
    "for i in lista:\n",
    "    lista2.append(i.split(\" - \"))"
   ]
  },
  {
   "cell_type": "code",
   "execution_count": 1,
   "metadata": {},
   "outputs": [
    {
     "ename": "NameError",
     "evalue": "name 'lista2' is not defined",
     "output_type": "error",
     "traceback": [
      "\u001b[1;31m---------------------------------------------------------------------------\u001b[0m",
      "\u001b[1;31mNameError\u001b[0m                                 Traceback (most recent call last)",
      "Cell \u001b[1;32mIn[1], line 1\u001b[0m\n\u001b[1;32m----> 1\u001b[0m \u001b[43mlista2\u001b[49m\n",
      "\u001b[1;31mNameError\u001b[0m: name 'lista2' is not defined"
     ]
    }
   ],
   "source": [
    "lista2"
   ]
  },
  {
   "cell_type": "markdown",
   "metadata": {},
   "source": [
    "Criando conversas fictícias para testar a sidebar"
   ]
  },
  {
   "cell_type": "code",
   "execution_count": 6,
   "metadata": {},
   "outputs": [],
   "source": [
    "posicoes_lista = []"
   ]
  },
  {
   "cell_type": "markdown",
   "metadata": {},
   "source": [
    "# Teste leitura política"
   ]
  },
  {
   "cell_type": "code",
   "execution_count": 9,
   "metadata": {},
   "outputs": [],
   "source": [
    "def _calcula_ciclo(dias_atraso):\n",
    "    ciclos = [\n",
    "        (30, \"Ciclo 1\"),\n",
    "        (60, \"Ciclo 2\"),\n",
    "        (90, \"Ciclo 3\"),\n",
    "        (120, \"Ciclo 4\"),\n",
    "        (150, \"Ciclo 5\"),\n",
    "    ]\n",
    "    for limite, ciclo in ciclos:\n",
    "        if dias_atraso <= limite:\n",
    "            return ciclo\n",
    "    return \"Ciclo 6\""
   ]
  },
  {
   "cell_type": "code",
   "execution_count": 16,
   "metadata": {},
   "outputs": [],
   "source": [
    "def _carregar_politica(dias_atraso, prob_rolagem):\n",
    "    path = \"../data/\"\n",
    "    file = \"politica.xlsx\"\n",
    "    ciclo = _calcula_ciclo(dias_atraso)\n",
    "\n",
    "    dados_politica = pd.read_excel(os.path.join(path, file))\n",
    "    dados_politica = dados_politica[(dados_politica[\"ciclo\"] == ciclo) & (dados_politica[\"prob_rolagem\"] == prob_rolagem)]\n",
    "    dados_politica = dados_politica.to_dict(orient=\"records\")[0]\n",
    "    return dados_politica"
   ]
  },
  {
   "cell_type": "code",
   "execution_count": 17,
   "metadata": {},
   "outputs": [
    {
     "data": {
      "text/plain": [
       "{'fx_atraso': '61 a 90',\n",
       " 'ciclo': 'Ciclo 3',\n",
       " 'prob_rolagem': 'Baixa',\n",
       " 'dias_pgto': 'Até 15 dias',\n",
       " 'desc_vista': '10.0% a 15.0%',\n",
       " 'desc_exc_vista': '18.0%',\n",
       " 'qtd_max_parcelas': 36,\n",
       " 'perc_min_entrada': '5.0%',\n",
       " 'vlr_min_parcela': 'R$50',\n",
       " 'desc_parc_3_12': '5.0 a 7.0',\n",
       " 'desc_parc_13_24': '3.0 a 5.0',\n",
       " 'desc_parc_25_36': '2.0 a 3.0',\n",
       " 'desc_parc_37_48': '-',\n",
       " 'desc_parc_49_60': '-',\n",
       " 'juros_3_12': '1.5 a 2.0',\n",
       " 'juros_13_24': '2.0 a 2.5',\n",
       " 'juros_25_36': '2.5 a 3.0',\n",
       " 'juros_37_48': '-',\n",
       " 'juros_49_60': '-',\n",
       " 'desc_exc_parc_3_12': '10.0%',\n",
       " 'desc_exc_parc_13_24': '8.0%',\n",
       " 'desc_exc_parc_25_36': '6.0%',\n",
       " 'desc_exc_parc_37_48': '-',\n",
       " 'desc_exc_parc_49_60': '-',\n",
       " 'juros_exc_3_12': '1.2%',\n",
       " 'juros_exc_13_24': '1.8%',\n",
       " 'juros_exc_25_36': '2.3%',\n",
       " 'juros_exc_37_48': '-',\n",
       " 'juros_exc_49_60': '-'}"
      ]
     },
     "execution_count": 17,
     "metadata": {},
     "output_type": "execute_result"
    }
   ],
   "source": [
    "_carregar_politica(dias_atraso=70, prob_rolagem=\"Baixa\")"
   ]
  },
  {
   "cell_type": "markdown",
   "metadata": {},
   "source": [
    "# Teste carregar dados cliente"
   ]
  },
  {
   "cell_type": "code",
   "execution_count": 218,
   "metadata": {},
   "outputs": [],
   "source": [
    "def _carregar_dados_cliente(cpf):\n",
    "        path = \"../data/\"\n",
    "        file = \"base_clientes_excel.xlsx\"\n",
    "        consulta_cliente = pd.read_excel(os.path.join(path, file))\n",
    "        consulta_cliente = consulta_cliente[consulta_cliente[\"cpf\"] == cpf]\n",
    "\n",
    "        dados_cliente = {}\n",
    "        if consulta_cliente.shape[0] > 0:\n",
    "            dados_cliente = {\n",
    "                \"nome\": consulta_cliente[\"nome\"][0],\n",
    "                \"segmento\": consulta_cliente[\"segmento\"][0],\n",
    "                \"genero\": consulta_cliente[\"genero\"][0],\n",
    "                \"prob_rolagem\": consulta_cliente[\"prob_rolagem\"][0],\n",
    "                \"data_nascimento\": consulta_cliente[\"data_nascimento\"][0].strftime(\"%Y-%m-%d\"),\n",
    "                \"idade\": relativedelta(datetime.today(), consulta_cliente[\"data_nascimento\"][0]).years,\n",
    "                \"produto\": consulta_cliente[\"produto\"][0],\n",
    "                \"nro_contrato\": consulta_cliente[\"nro_contrato\"][0],\n",
    "                \"vlr_divida\": consulta_cliente[\"vlr_divida\"][0],\n",
    "                \"dias_atraso\": consulta_cliente[\"dias_atraso\"][0]\n",
    "            }\n",
    "        return dados_cliente"
   ]
  },
  {
   "cell_type": "code",
   "execution_count": 219,
   "metadata": {},
   "outputs": [
    {
     "data": {
      "text/plain": [
       "{'nome': 'Juan Moura',\n",
       " 'segmento': 'Private',\n",
       " 'genero': 'Masculino',\n",
       " 'prob_rolagem': 'Alta',\n",
       " 'data_nascimento': '1998-01-05',\n",
       " 'idade': 26,\n",
       " 'produto': 'Cartao de Credito',\n",
       " 'nro_contrato': 831783229,\n",
       " 'vlr_divida': 3722.86,\n",
       " 'dias_atraso': 78}"
      ]
     },
     "execution_count": 219,
     "metadata": {},
     "output_type": "execute_result"
    }
   ],
   "source": [
    "_carregar_dados_cliente(cpf=34366343878)"
   ]
  },
  {
   "cell_type": "markdown",
   "metadata": {},
   "source": [
    "# Teste carregar histórico conversa"
   ]
  },
  {
   "cell_type": "code",
   "execution_count": 117,
   "metadata": {},
   "outputs": [],
   "source": [
    "cliente_1_negociacao_1 = {\n",
    "    \"cpf\": 34366343878,\n",
    "    \"assunto\": \"Negociação\",\n",
    "    \"dt_hr_ini\":\"2024-07-04 09:00:00\",\n",
    "}"
   ]
  },
  {
   "cell_type": "code",
   "execution_count": 118,
   "metadata": {},
   "outputs": [],
   "source": [
    "cpf = cliente_1_negociacao_1[\"cpf\"]\n",
    "assunto = cliente_1_negociacao_1[\"assunto\"]\n",
    "dt_hr_ini = cliente_1_negociacao_1[\"dt_hr_ini\"]"
   ]
  },
  {
   "cell_type": "code",
   "execution_count": 119,
   "metadata": {},
   "outputs": [
    {
     "name": "stdout",
     "output_type": "stream",
     "text": [
      "34366343878 Negociação 2024-07-04 09:00:00\n"
     ]
    }
   ],
   "source": [
    "print(cpf, assunto, dt_hr_ini)"
   ]
  },
  {
   "cell_type": "code",
   "execution_count": 220,
   "metadata": {},
   "outputs": [],
   "source": [
    "def _carregar_dados_conversa(asc=False):\n",
    "    dados_conversa = collection.aggregate([\n",
    "        {\"$match\": {\"cpf\": cpf}},\n",
    "        {\"$unwind\": \"$conversas\"},\n",
    "        {\"$match\": {\"conversas.assunto\": assunto}},\n",
    "        {\"$unwind\": \"$conversas.chats\"},\n",
    "        {\"$match\": {\"conversas.chats.data_hora_inicio\": dt_hr_ini}},\n",
    "        {\"$project\": {\n",
    "            \"_id\": 0,\n",
    "            \"chat\": \"$conversas.chats\"\n",
    "        }}\n",
    "    ])\n",
    "\n",
    "    dados_conversa = list(dados_conversa)[0][\"chat\"][\"mensagens\"]\n",
    "    return dados_conversa"
   ]
  },
  {
   "cell_type": "code",
   "execution_count": 222,
   "metadata": {},
   "outputs": [],
   "source": [
    "cpf = 72388905850\n",
    "assunto = \"Boleto\"\n",
    "dt_hr_ini = \"2024-07-06 15:30:00\""
   ]
  },
  {
   "cell_type": "code",
   "execution_count": 223,
   "metadata": {},
   "outputs": [
    {
     "data": {
      "text/plain": [
       "[{'id': 1,\n",
       "  'data_hora': '2024-07-05 10:00:00',\n",
       "  'mensagem_cliente': 'Bom dia! Sou a Ana, e eu não recebi o boleto para pagamento da parcela deste mês. Vocês poderiam me enviar novamente?',\n",
       "  'sugestao_ia': 'Bom dia, Ana! Claro, vamos verificar isso para você.',\n",
       "  'rating_sugestao_ia': 3,\n",
       "  'resposta_final_operador': 'Bom dia, Ana! Peço desculpas pelo transtorno. Vou verificar no sistema e encaminhar o boleto para o seu e-mail imediatamente. Pode me confirmar se o endereço de e-mail para envio continua sendo ana@example.com?'},\n",
       " {'id': 2,\n",
       "  'data_hora': '2024-07-05 10:02:00',\n",
       "  'mensagem_cliente': 'Isso mesmo, o e-mail está correto. Obrigada por verificar tão rápido!',\n",
       "  'sugestao_ia': 'Nada que agradecer, Ana! Vou enviar agora.',\n",
       "  'rating_sugestao_ia': 4,\n",
       "  'resposta_final_operador': 'Perfeito, Ana! Já enviei o boleto para o seu e-mail. Você deve recebê-lo dentro de alguns minutos. Por favor, verifique também a sua caixa de spam, caso não encontre na caixa de entrada.'},\n",
       " {'id': 3,\n",
       "  'data_hora': '2024-07-05 10:05:00',\n",
       "  'mensagem_cliente': 'Recebi o boleto, muito obrigada pela ajuda rápida! Aproveitando, há algum desconto para pagamento antecipado?',\n",
       "  'sugestao_ia': 'Que bom que deu tudo certo, Ana! Vou verificar sobre o desconto.',\n",
       "  'rating_sugestao_ia': 3,\n",
       "  'resposta_final_operador': 'Que bom que recebeu, Ana! Sobre o pagamento antecipado, oferecemos um desconto de 5% para pagamentos realizados até 5 dias antes do vencimento. Se interessar, posso recalcular o boleto com o desconto.'}]"
      ]
     },
     "execution_count": 223,
     "metadata": {},
     "output_type": "execute_result"
    }
   ],
   "source": [
    "_carregar_dados_conversa()"
   ]
  },
  {
   "cell_type": "code",
   "execution_count": 159,
   "metadata": {},
   "outputs": [],
   "source": [
    "# if st.session.carregar_historico:\n",
    "#     dados_conversa = _carregar_dados_conversa()\n",
    "#     st.session.carregar_historico = False\n",
    "\n",
    "dados_conversa = _carregar_dados_conversa()"
   ]
  },
  {
   "cell_type": "code",
   "execution_count": 160,
   "metadata": {},
   "outputs": [
    {
     "data": {
      "text/plain": [
       "[{'id': 1,\n",
       "  'data_hora': '2024-07-04 09:00:00',\n",
       "  'mensagem_cliente': 'Bom dia, meu nome é João e estou entrando em contato porque estou com dificuldades para pagar a dívida que tenho com vocês. Gostaria de saber se existe alguma forma de negociarmos esse valor para facilitar o pagamento.',\n",
       "  'sugestao_ia': 'Olá, João! Agradeço seu contato e estou aqui para ajudá-lo.',\n",
       "  'rating_sugestao_ia': 3,\n",
       "  'resposta_final_operador': 'Olá, João! Agradeço seu contato e estou aqui para ajudá-lo. Vamos verificar o que podemos fazer. Uma opção seria parcelar a dívida em termos que caberiam melhor no seu orçamento mensal. Outra possibilidade seria aplicarmos um desconto para pagamento à vista. O que acha dessas opções?'},\n",
       " {'id': 2,\n",
       "  'data_hora': '2024-07-04 09:05:00',\n",
       "  'mensagem_cliente': 'Agradeço a compreensão, Carlos. No momento, a opção de parcelamento seria a mais viável para mim. Não tenho como cobrir o valor total imediatamente.',\n",
       "  'sugestao_ia': 'Entendo, João. Vamos estruturar um plano de parcelamento então.',\n",
       "  'rating_sugestao_ia': 4,\n",
       "  'resposta_final_operador': 'Entendo, João. Podemos estruturar um plano de parcelamento então. Que tal dividirmos o total devido em 12 meses? Isso ajudaria a ajustar as parcelas ao seu orçamento?'},\n",
       " {'id': 3,\n",
       "  'data_hora': '2024-07-04 09:10:00',\n",
       "  'mensagem_cliente': 'Isso soa bem, Carlos. As parcelas ficariam de quanto, aproximadamente?',\n",
       "  'sugestao_ia': 'Vou calcular aqui rapidamente.',\n",
       "  'rating_sugestao_ia': 3,\n",
       "  'resposta_final_operador': 'Vou calcular aqui rapidamente. Considerando o total devido, com o parcelamento em 12 meses, as parcelas ficariam em torno de X reais por mês. Isso seria confortável para você?'},\n",
       " {'id': 4,\n",
       "  'data_hora': '2024-07-04 09:15:00',\n",
       "  'mensagem_cliente': 'Sim, isso eu consigo fazer. Podemos proceder com esse plano então. Como faço para formalizar esse acordo?',\n",
       "  'sugestao_ia': 'Ótimo, João! Vou enviar agora mesmo para seu e-mail um acordo formal.',\n",
       "  'rating_sugestao_ia': 5,\n",
       "  'resposta_final_operador': 'Ótimo, João! Vou enviar agora mesmo para seu e-mail um acordo formal com os detalhes do parcelamento e as instruções para assinatura. Assim que receber sua confirmação e assinatura, seu novo plano estará ativo.'}]"
      ]
     },
     "execution_count": 160,
     "metadata": {},
     "output_type": "execute_result"
    }
   ],
   "source": [
    "dados_conversa"
   ]
  },
  {
   "cell_type": "markdown",
   "metadata": {},
   "source": [
    "Adicionou mais uma mensagem? Appenda no dados conversa... Não precisa ficar carregando toda vez..."
   ]
  },
  {
   "cell_type": "markdown",
   "metadata": {},
   "source": [
    "Situações:\n",
    "\n",
    "1. Novo chat (não precisa carregar)\n",
    "2. Seleciona chat existente (precisa carregar)\n",
    "3. Adiciona primeira mensagem no chat novo (não precisa carregar, só appendar)\n",
    "4. Adiciona mais uma mensagem no chat existente (não precisa carregar, só appendar)\n",
    "\n",
    "Conclusão\n",
    "1. Inicia com uma variável dados_conversa = [] ou carregar_chat_historico = False.\n",
    "    - Se algum botão de chat histórico for selecionado, carregar_chat_historico = True.\n",
    "    - Se carregar_chat_historico = True, função carregar executa e carregar_chat_historico = False\n",
    "2. Quando o usuário inserir uma nova mensagem, dados_conversa.append(dict_nova_mensagem)\n",
    "3. Exibir histórico se len(dados_conversa) > 0\n",
    "4. Somente exibir na sidebar clientes que possuem pelo menos 1 mensagem registrada."
   ]
  },
  {
   "cell_type": "code",
   "execution_count": 169,
   "metadata": {},
   "outputs": [
    {
     "data": {
      "text/plain": [
       "[{'id': 1,\n",
       "  'data_hora': '2024-07-04 09:00:00',\n",
       "  'mensagem_cliente': 'Bom dia, meu nome é João e estou entrando em contato porque estou com dificuldades para pagar a dívida que tenho com vocês. Gostaria de saber se existe alguma forma de negociarmos esse valor para facilitar o pagamento.',\n",
       "  'sugestao_ia': 'Olá, João! Agradeço seu contato e estou aqui para ajudá-lo.',\n",
       "  'rating_sugestao_ia': 3,\n",
       "  'resposta_final_operador': 'Olá, João! Agradeço seu contato e estou aqui para ajudá-lo. Vamos verificar o que podemos fazer. Uma opção seria parcelar a dívida em termos que caberiam melhor no seu orçamento mensal. Outra possibilidade seria aplicarmos um desconto para pagamento à vista. O que acha dessas opções?'},\n",
       " {'id': 2,\n",
       "  'data_hora': '2024-07-04 09:05:00',\n",
       "  'mensagem_cliente': 'Agradeço a compreensão, Carlos. No momento, a opção de parcelamento seria a mais viável para mim. Não tenho como cobrir o valor total imediatamente.',\n",
       "  'sugestao_ia': 'Entendo, João. Vamos estruturar um plano de parcelamento então.',\n",
       "  'rating_sugestao_ia': 4,\n",
       "  'resposta_final_operador': 'Entendo, João. Podemos estruturar um plano de parcelamento então. Que tal dividirmos o total devido em 12 meses? Isso ajudaria a ajustar as parcelas ao seu orçamento?'},\n",
       " {'id': 3,\n",
       "  'data_hora': '2024-07-04 09:10:00',\n",
       "  'mensagem_cliente': 'Isso soa bem, Carlos. As parcelas ficariam de quanto, aproximadamente?',\n",
       "  'sugestao_ia': 'Vou calcular aqui rapidamente.',\n",
       "  'rating_sugestao_ia': 3,\n",
       "  'resposta_final_operador': 'Vou calcular aqui rapidamente. Considerando o total devido, com o parcelamento em 12 meses, as parcelas ficariam em torno de X reais por mês. Isso seria confortável para você?'},\n",
       " {'id': 4,\n",
       "  'data_hora': '2024-07-04 09:15:00',\n",
       "  'mensagem_cliente': 'Sim, isso eu consigo fazer. Podemos proceder com esse plano então. Como faço para formalizar esse acordo?',\n",
       "  'sugestao_ia': 'Ótimo, João! Vou enviar agora mesmo para seu e-mail um acordo formal.',\n",
       "  'rating_sugestao_ia': 5,\n",
       "  'resposta_final_operador': 'Ótimo, João! Vou enviar agora mesmo para seu e-mail um acordo formal com os detalhes do parcelamento e as instruções para assinatura. Assim que receber sua confirmação e assinatura, seu novo plano estará ativo.'}]"
      ]
     },
     "execution_count": 169,
     "metadata": {},
     "output_type": "execute_result"
    }
   ],
   "source": [
    "dados_conversa"
   ]
  },
  {
   "cell_type": "code",
   "execution_count": 178,
   "metadata": {},
   "outputs": [],
   "source": [
    "keys_historico_bot = ['id', 'data_hora', 'mensagem_cliente', \"resposta_final_operador\"]\n",
    "historico_mensagens = []\n",
    "for i in dados_conversa:\n",
    "    novo_dict_conversa = {k: i[k] for k in keys_historico_bot}\n",
    "    historico_mensagens.append(novo_dict_conversa)"
   ]
  },
  {
   "cell_type": "code",
   "execution_count": 179,
   "metadata": {},
   "outputs": [
    {
     "data": {
      "text/plain": [
       "[{'id': 1,\n",
       "  'data_hora': '2024-07-04 09:00:00',\n",
       "  'mensagem_cliente': 'Bom dia, meu nome é João e estou entrando em contato porque estou com dificuldades para pagar a dívida que tenho com vocês. Gostaria de saber se existe alguma forma de negociarmos esse valor para facilitar o pagamento.',\n",
       "  'resposta_final_operador': 'Olá, João! Agradeço seu contato e estou aqui para ajudá-lo. Vamos verificar o que podemos fazer. Uma opção seria parcelar a dívida em termos que caberiam melhor no seu orçamento mensal. Outra possibilidade seria aplicarmos um desconto para pagamento à vista. O que acha dessas opções?'},\n",
       " {'id': 2,\n",
       "  'data_hora': '2024-07-04 09:05:00',\n",
       "  'mensagem_cliente': 'Agradeço a compreensão, Carlos. No momento, a opção de parcelamento seria a mais viável para mim. Não tenho como cobrir o valor total imediatamente.',\n",
       "  'resposta_final_operador': 'Entendo, João. Podemos estruturar um plano de parcelamento então. Que tal dividirmos o total devido em 12 meses? Isso ajudaria a ajustar as parcelas ao seu orçamento?'},\n",
       " {'id': 3,\n",
       "  'data_hora': '2024-07-04 09:10:00',\n",
       "  'mensagem_cliente': 'Isso soa bem, Carlos. As parcelas ficariam de quanto, aproximadamente?',\n",
       "  'resposta_final_operador': 'Vou calcular aqui rapidamente. Considerando o total devido, com o parcelamento em 12 meses, as parcelas ficariam em torno de X reais por mês. Isso seria confortável para você?'},\n",
       " {'id': 4,\n",
       "  'data_hora': '2024-07-04 09:15:00',\n",
       "  'mensagem_cliente': 'Sim, isso eu consigo fazer. Podemos proceder com esse plano então. Como faço para formalizar esse acordo?',\n",
       "  'resposta_final_operador': 'Ótimo, João! Vou enviar agora mesmo para seu e-mail um acordo formal com os detalhes do parcelamento e as instruções para assinatura. Assim que receber sua confirmação e assinatura, seu novo plano estará ativo.'}]"
      ]
     },
     "execution_count": 179,
     "metadata": {},
     "output_type": "execute_result"
    }
   ],
   "source": [
    "historico_mensagens"
   ]
  },
  {
   "cell_type": "code",
   "execution_count": 162,
   "metadata": {},
   "outputs": [],
   "source": [
    "def exibir_historico_conversa(dados_conversa, asc=False):\n",
    "    dados_conversa_exibir = dados_conversa.copy()\n",
    "    if not asc:\n",
    "        dados_conversa_exibir.reverse()\n",
    "    if len(dados_conversa) > 0:\n",
    "        print(\"---\")\n",
    "        print(\"### Histórico da Conversa\")\n",
    "        print(\"---\")\n",
    "        # st.button(classificar)\n",
    "        for conversa in dados_conversa_exibir:\n",
    "            print(f\"ID: {conversa['id']} - Data e Hora: {conversa['data_hora']}\")\n",
    "            print(f\"Mensagem do cliente: {conversa['mensagem_cliente']}\")\n",
    "            print(f\"Sugestão da IA: {conversa['sugestao_ia']}  (Nota {conversa['rating_sugestao_ia']})\")\n",
    "            print(f\"Resposta enviada ao cliente: {conversa['resposta_final_operador']}\")\n",
    "            print(\"---\")"
   ]
  },
  {
   "cell_type": "markdown",
   "metadata": {},
   "source": [
    "appenda no final se asc = True, senão insert 0. melhor solução é colocar o param asc dentro de exibir. e sempre usar a função de appendar na conversa."
   ]
  },
  {
   "cell_type": "code",
   "execution_count": 163,
   "metadata": {},
   "outputs": [
    {
     "name": "stdout",
     "output_type": "stream",
     "text": [
      "[1, 2, 3, 4]\n"
     ]
    }
   ],
   "source": [
    "# Definindo a lista inicial\n",
    "minha_lista = [2, 3, 4]\n",
    "\n",
    "# Elemento que você quer inserir na primeira posição\n",
    "elemento = 1\n",
    "\n",
    "# Inserindo o elemento na primeira posição\n",
    "minha_lista.insert(0, elemento)\n",
    "\n",
    "# Mostrando a lista após a inserção\n",
    "print(minha_lista)"
   ]
  },
  {
   "cell_type": "code",
   "execution_count": 180,
   "metadata": {},
   "outputs": [],
   "source": [
    "minha_lista.append(5)"
   ]
  },
  {
   "cell_type": "code",
   "execution_count": 181,
   "metadata": {},
   "outputs": [
    {
     "data": {
      "text/plain": [
       "[1, 2, 3, 4, 5]"
      ]
     },
     "execution_count": 181,
     "metadata": {},
     "output_type": "execute_result"
    }
   ],
   "source": [
    "minha_lista"
   ]
  },
  {
   "cell_type": "code",
   "execution_count": 168,
   "metadata": {},
   "outputs": [
    {
     "name": "stdout",
     "output_type": "stream",
     "text": [
      "---\n",
      "### Histórico da Conversa\n",
      "---\n",
      "ID: 4 - Data e Hora: 2024-07-04 09:15:00\n",
      "Mensagem do cliente: Sim, isso eu consigo fazer. Podemos proceder com esse plano então. Como faço para formalizar esse acordo?\n",
      "Sugestão da IA: Ótimo, João! Vou enviar agora mesmo para seu e-mail um acordo formal.  (Nota 5)\n",
      "Resposta enviada ao cliente: Ótimo, João! Vou enviar agora mesmo para seu e-mail um acordo formal com os detalhes do parcelamento e as instruções para assinatura. Assim que receber sua confirmação e assinatura, seu novo plano estará ativo.\n",
      "---\n",
      "ID: 3 - Data e Hora: 2024-07-04 09:10:00\n",
      "Mensagem do cliente: Isso soa bem, Carlos. As parcelas ficariam de quanto, aproximadamente?\n",
      "Sugestão da IA: Vou calcular aqui rapidamente.  (Nota 3)\n",
      "Resposta enviada ao cliente: Vou calcular aqui rapidamente. Considerando o total devido, com o parcelamento em 12 meses, as parcelas ficariam em torno de X reais por mês. Isso seria confortável para você?\n",
      "---\n",
      "ID: 2 - Data e Hora: 2024-07-04 09:05:00\n",
      "Mensagem do cliente: Agradeço a compreensão, Carlos. No momento, a opção de parcelamento seria a mais viável para mim. Não tenho como cobrir o valor total imediatamente.\n",
      "Sugestão da IA: Entendo, João. Vamos estruturar um plano de parcelamento então.  (Nota 4)\n",
      "Resposta enviada ao cliente: Entendo, João. Podemos estruturar um plano de parcelamento então. Que tal dividirmos o total devido em 12 meses? Isso ajudaria a ajustar as parcelas ao seu orçamento?\n",
      "---\n",
      "ID: 1 - Data e Hora: 2024-07-04 09:00:00\n",
      "Mensagem do cliente: Bom dia, meu nome é João e estou entrando em contato porque estou com dificuldades para pagar a dívida que tenho com vocês. Gostaria de saber se existe alguma forma de negociarmos esse valor para facilitar o pagamento.\n",
      "Sugestão da IA: Olá, João! Agradeço seu contato e estou aqui para ajudá-lo.  (Nota 3)\n",
      "Resposta enviada ao cliente: Olá, João! Agradeço seu contato e estou aqui para ajudá-lo. Vamos verificar o que podemos fazer. Uma opção seria parcelar a dívida em termos que caberiam melhor no seu orçamento mensal. Outra possibilidade seria aplicarmos um desconto para pagamento à vista. O que acha dessas opções?\n",
      "---\n"
     ]
    }
   ],
   "source": [
    "exibir_historico_conversa(dados_conversa, asc=False)"
   ]
  }
 ],
 "metadata": {
  "kernelspec": {
   "display_name": "Python 3",
   "language": "python",
   "name": "python3"
  },
  "language_info": {
   "codemirror_mode": {
    "name": "ipython",
    "version": 3
   },
   "file_extension": ".py",
   "mimetype": "text/x-python",
   "name": "python",
   "nbconvert_exporter": "python",
   "pygments_lexer": "ipython3",
   "version": "3.12.3"
  }
 },
 "nbformat": 4,
 "nbformat_minor": 2
}
