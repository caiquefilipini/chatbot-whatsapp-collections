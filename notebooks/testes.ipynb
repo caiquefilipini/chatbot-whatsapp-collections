{
 "cells": [
  {
   "cell_type": "code",
   "execution_count": 1,
   "metadata": {},
   "outputs": [],
   "source": [
    "import pandas as pd\n",
    "import sqlite3\n",
    "import os"
   ]
  },
  {
   "cell_type": "code",
   "execution_count": 2,
   "metadata": {},
   "outputs": [
    {
     "name": "stdout",
     "output_type": "stream",
     "text": [
      "[0]\n"
     ]
    }
   ],
   "source": [
    "qtd_msg = 1\n",
    "\n",
    "lista = list(range(qtd_msg))\n",
    "print(lista)"
   ]
  },
  {
   "cell_type": "code",
   "execution_count": 3,
   "metadata": {},
   "outputs": [
    {
     "name": "stdout",
     "output_type": "stream",
     "text": [
      "range(0, 1)\n"
     ]
    }
   ],
   "source": [
    "qtd_msg = 1\n",
    "\n",
    "lista = range(qtd_msg)\n",
    "print(lista)"
   ]
  },
  {
   "cell_type": "code",
   "execution_count": 4,
   "metadata": {},
   "outputs": [
    {
     "name": "stdout",
     "output_type": "stream",
     "text": [
      "posição 3\n",
      "indice 1\n",
      "posição 2\n",
      "indice 2\n",
      "posição 1\n",
      "indice 3\n",
      "posição 0\n",
      "indice 4\n"
     ]
    }
   ],
   "source": [
    "qtd_msg = 4\n",
    "lista = list(range(qtd_msg - 1, -1, -1))\n",
    "for p, i in enumerate(lista):\n",
    "    print(\"posição\", i)\n",
    "    print(\"indice\", p+1)\n",
    "    "
   ]
  },
  {
   "cell_type": "code",
   "execution_count": 5,
   "metadata": {},
   "outputs": [],
   "source": [
    "base_clientes = pd.read_csv('../data/base_clientes.csv')"
   ]
  },
  {
   "cell_type": "code",
   "execution_count": 6,
   "metadata": {},
   "outputs": [
    {
     "data": {
      "text/html": [
       "<div>\n",
       "<style scoped>\n",
       "    .dataframe tbody tr th:only-of-type {\n",
       "        vertical-align: middle;\n",
       "    }\n",
       "\n",
       "    .dataframe tbody tr th {\n",
       "        vertical-align: top;\n",
       "    }\n",
       "\n",
       "    .dataframe thead th {\n",
       "        text-align: right;\n",
       "    }\n",
       "</style>\n",
       "<table border=\"1\" class=\"dataframe\">\n",
       "  <thead>\n",
       "    <tr style=\"text-align: right;\">\n",
       "      <th></th>\n",
       "      <th>cpf</th>\n",
       "      <th>nome</th>\n",
       "      <th>segmento</th>\n",
       "      <th>qtd_cont</th>\n",
       "      <th>vlr_total_div</th>\n",
       "      <th>max_dias_atraso</th>\n",
       "    </tr>\n",
       "  </thead>\n",
       "  <tbody>\n",
       "    <tr>\n",
       "      <th>0</th>\n",
       "      <td>42006925890</td>\n",
       "      <td>Bryan Campos</td>\n",
       "      <td>Van Gogh</td>\n",
       "      <td>10</td>\n",
       "      <td>5000</td>\n",
       "      <td>60</td>\n",
       "    </tr>\n",
       "    <tr>\n",
       "      <th>1</th>\n",
       "      <td>34366343878</td>\n",
       "      <td>Juan Moura</td>\n",
       "      <td>Private</td>\n",
       "      <td>5</td>\n",
       "      <td>2000</td>\n",
       "      <td>30</td>\n",
       "    </tr>\n",
       "    <tr>\n",
       "      <th>2</th>\n",
       "      <td>72388905850</td>\n",
       "      <td>Ana Sophia da Cruz</td>\n",
       "      <td>Van Gogh</td>\n",
       "      <td>1</td>\n",
       "      <td>2293</td>\n",
       "      <td>28</td>\n",
       "    </tr>\n",
       "    <tr>\n",
       "      <th>3</th>\n",
       "      <td>85044167398</td>\n",
       "      <td>Marina Moraes</td>\n",
       "      <td>Especial</td>\n",
       "      <td>7</td>\n",
       "      <td>2685</td>\n",
       "      <td>42</td>\n",
       "    </tr>\n",
       "    <tr>\n",
       "      <th>4</th>\n",
       "      <td>86406862031</td>\n",
       "      <td>Marcos Vinicius Cardoso</td>\n",
       "      <td>Van Gogh</td>\n",
       "      <td>13</td>\n",
       "      <td>9173</td>\n",
       "      <td>50</td>\n",
       "    </tr>\n",
       "  </tbody>\n",
       "</table>\n",
       "</div>"
      ],
      "text/plain": [
       "           cpf                     nome  segmento  qtd_cont  vlr_total_div  \\\n",
       "0  42006925890             Bryan Campos  Van Gogh        10           5000   \n",
       "1  34366343878               Juan Moura   Private         5           2000   \n",
       "2  72388905850       Ana Sophia da Cruz  Van Gogh         1           2293   \n",
       "3  85044167398            Marina Moraes  Especial         7           2685   \n",
       "4  86406862031  Marcos Vinicius Cardoso  Van Gogh        13           9173   \n",
       "\n",
       "   max_dias_atraso  \n",
       "0               60  \n",
       "1               30  \n",
       "2               28  \n",
       "3               42  \n",
       "4               50  "
      ]
     },
     "execution_count": 6,
     "metadata": {},
     "output_type": "execute_result"
    }
   ],
   "source": [
    "base_clientes.head()"
   ]
  },
  {
   "cell_type": "code",
   "execution_count": 7,
   "metadata": {},
   "outputs": [],
   "source": [
    "# Especificar o caminho para o diretório onde o banco de dados está localizado\n",
    "path = \"../data/\"\n",
    "\n",
    "# Especificar o valor do CPF como uma string entre aspas simples\n",
    "cpf_value = 42006925890\n",
    "query = f\"SELECT * FROM customer_database_table WHERE cpf = '{cpf_value}'\"\n",
    "\n",
    "# Usar a declaração `with` para gerenciar a conexão ao banco de dados SQLite\n",
    "with sqlite3.connect(os.path.join(path, 'customer_database.sqlite')) as conn:\n",
    "    # Executar a consulta SQL e ler o resultado em um DataFrame do pandas\n",
    "    base = pd.read_sql_query(query, conn)"
   ]
  },
  {
   "cell_type": "code",
   "execution_count": 8,
   "metadata": {},
   "outputs": [
    {
     "data": {
      "text/html": [
       "<div>\n",
       "<style scoped>\n",
       "    .dataframe tbody tr th:only-of-type {\n",
       "        vertical-align: middle;\n",
       "    }\n",
       "\n",
       "    .dataframe tbody tr th {\n",
       "        vertical-align: top;\n",
       "    }\n",
       "\n",
       "    .dataframe thead th {\n",
       "        text-align: right;\n",
       "    }\n",
       "</style>\n",
       "<table border=\"1\" class=\"dataframe\">\n",
       "  <thead>\n",
       "    <tr style=\"text-align: right;\">\n",
       "      <th></th>\n",
       "      <th>cpf</th>\n",
       "      <th>nome</th>\n",
       "      <th>segmento</th>\n",
       "      <th>qtd_cont</th>\n",
       "      <th>vlr_total_div</th>\n",
       "      <th>max_dias_atraso</th>\n",
       "    </tr>\n",
       "  </thead>\n",
       "  <tbody>\n",
       "    <tr>\n",
       "      <th>0</th>\n",
       "      <td>42006925890</td>\n",
       "      <td>Bryan Campos</td>\n",
       "      <td>Van Gogh</td>\n",
       "      <td>10</td>\n",
       "      <td>5000</td>\n",
       "      <td>60</td>\n",
       "    </tr>\n",
       "  </tbody>\n",
       "</table>\n",
       "</div>"
      ],
      "text/plain": [
       "           cpf          nome  segmento  qtd_cont  vlr_total_div  \\\n",
       "0  42006925890  Bryan Campos  Van Gogh        10           5000   \n",
       "\n",
       "   max_dias_atraso  \n",
       "0               60  "
      ]
     },
     "execution_count": 8,
     "metadata": {},
     "output_type": "execute_result"
    }
   ],
   "source": [
    "base.head()"
   ]
  },
  {
   "cell_type": "code",
   "execution_count": 9,
   "metadata": {},
   "outputs": [
    {
     "data": {
      "text/plain": [
       "array(['Bryan Campos'], dtype=object)"
      ]
     },
     "execution_count": 9,
     "metadata": {},
     "output_type": "execute_result"
    }
   ],
   "source": [
    "base[\"nome\"].values"
   ]
  },
  {
   "cell_type": "code",
   "execution_count": 7,
   "metadata": {},
   "outputs": [
    {
     "name": "stdout",
     "output_type": "stream",
     "text": [
      "Documento inserido com ID: 668540b0c7fc8992e54be205\n"
     ]
    }
   ],
   "source": [
    "# Teste Mongo\n",
    "\n",
    "from pymongo import MongoClient\n",
    "\n",
    "# Conectar ao servidor MongoDB\n",
    "client = MongoClient('localhost', 27017)\n",
    "\n",
    "# Acessar o banco de dados de teste\n",
    "db = client.test\n",
    "\n",
    "# Inserir um documento de teste\n",
    "result = db.test_collection.insert_one({'name': 'teste', 'value': 42})\n",
    "\n",
    "print(f\"Documento inserido com ID: {result.inserted_id}\")"
   ]
  },
  {
   "cell_type": "code",
   "execution_count": 11,
   "metadata": {},
   "outputs": [],
   "source": [
    "def conectar_mongo():\n",
    "    # Verifica se a conexão já foi criada\n",
    "    if not hasattr(conectar_mongo, \"collection\"):\n",
    "        try:\n",
    "            # Se não, cria uma nova conexão\n",
    "            conectar_mongo.client = MongoClient('mongodb://localhost:27017/', serverSelectionTimeoutMS=5000)\n",
    "            conectar_mongo.client.server_info()  # Tenta obter informações do servidor para testar a conexão\n",
    "            conectar_mongo.db = conectar_mongo.client['db_conversas']\n",
    "            conectar_mongo.collection = conectar_mongo.db['clientes_conversas']\n",
    "        except Exception as e:\n",
    "            print(f\"Erro ao conectar ao MongoDB: {e}\")\n",
    "            conectar_mongo.client = None\n",
    "            return None\n",
    "    else:\n",
    "        print(\"Conexão existente com o MongoDB\")\n",
    "\n",
    "    return conectar_mongo.client, conectar_mongo.db, conectar_mongo.collection"
   ]
  },
  {
   "cell_type": "code",
   "execution_count": 14,
   "metadata": {},
   "outputs": [],
   "source": [
    "# conectar_mongo.collection = None\n",
    "del conectar_mongo.collection"
   ]
  },
  {
   "cell_type": "code",
   "execution_count": 15,
   "metadata": {},
   "outputs": [
    {
     "data": {
      "text/plain": [
       "(MongoClient(host=['localhost:27017'], document_class=dict, tz_aware=False, connect=True, serverselectiontimeoutms=5000),\n",
       " Database(MongoClient(host=['localhost:27017'], document_class=dict, tz_aware=False, connect=True, serverselectiontimeoutms=5000), 'db_conversas'),\n",
       " Collection(Database(MongoClient(host=['localhost:27017'], document_class=dict, tz_aware=False, connect=True, serverselectiontimeoutms=5000), 'db_conversas'), 'clientes_conversas'))"
      ]
     },
     "execution_count": 15,
     "metadata": {},
     "output_type": "execute_result"
    }
   ],
   "source": [
    "conectar_mongo()"
   ]
  },
  {
   "cell_type": "markdown",
   "metadata": {},
   "source": [
    "## Testando funções MongoDB"
   ]
  },
  {
   "cell_type": "code",
   "execution_count": 20,
   "metadata": {},
   "outputs": [],
   "source": [
    "from pymongo import MongoClient\n",
    "\n",
    "# Visualizaçao do json\n",
    "import json\n",
    "from bson import ObjectId"
   ]
  },
  {
   "cell_type": "code",
   "execution_count": 21,
   "metadata": {},
   "outputs": [],
   "source": [
    "def conectar_mongo():\n",
    "    try:\n",
    "        client = MongoClient('mongodb://localhost:27017/', serverSelectionTimeoutMS=5000)\n",
    "        client.server_info()  # Gera uma exceção se não conseguir conectar\n",
    "        print(\"Conexão com MongoDB bem-sucedida.\")\n",
    "        if client:\n",
    "            db = client['meu_banco_de_dados']\n",
    "            collection = db['clientes_conversas']\n",
    "        return client, db, collection\n",
    "    except Exception as e:\n",
    "        print(f\"Erro ao conectar ao MongoDB: {e}\")\n",
    "        return None"
   ]
  },
  {
   "cell_type": "code",
   "execution_count": 22,
   "metadata": {},
   "outputs": [
    {
     "name": "stdout",
     "output_type": "stream",
     "text": [
      "Conexão com MongoDB bem-sucedida.\n"
     ]
    }
   ],
   "source": [
    "client, db, collection = conectar_mongo() # Conectar ao banco de dados"
   ]
  },
  {
   "cell_type": "code",
   "execution_count": 23,
   "metadata": {},
   "outputs": [],
   "source": [
    "# Função personalizada para serializar ObjectId\n",
    "class JSONEncoder(json.JSONEncoder):\n",
    "    def default(self, obj):\n",
    "        if isinstance(obj, ObjectId):\n",
    "            return str(obj)\n",
    "        return json.JSONEncoder.default(self, obj)"
   ]
  },
  {
   "cell_type": "code",
   "execution_count": 24,
   "metadata": {},
   "outputs": [],
   "source": [
    "def formatar_json(documento):\n",
    "    return json.dumps(documento, indent=4, ensure_ascii=False, cls=JSONEncoder)"
   ]
  },
  {
   "cell_type": "code",
   "execution_count": 25,
   "metadata": {},
   "outputs": [],
   "source": [
    "# Consultar todos os documentos na coleção\n",
    "def consultar_todos():\n",
    "    documentos = collection.find()\n",
    "    for doc in documentos:\n",
    "        print(formatar_json(doc))\n",
    "\n",
    "# Consultar documentos com uma condição\n",
    "def consultar_condicao(cpf):\n",
    "    documento = collection.find_one({\"cpf\": cpf})\n",
    "    if documento:\n",
    "        formatar_json(documento)\n",
    "    else:\n",
    "        print(f\"Nenhum documento encontrado para o CPF {cpf}\")"
   ]
  },
  {
   "cell_type": "code",
   "execution_count": 26,
   "metadata": {},
   "outputs": [],
   "source": [
    "def inserir_cliente(cpf, assunto, dt_hr_ini):\n",
    "    cliente = collection.find_one({\"cpf\": cpf})\n",
    "    # Inserir novo cliente se não existir\n",
    "    if not cliente:\n",
    "        collection.insert_one({\n",
    "            \"cpf\": cpf,\n",
    "            \"conversas\": [\n",
    "                {\n",
    "                    \"assunto\": assunto,\n",
    "                    \"chats\": [\n",
    "                        {\n",
    "                            \"data_hora_inicio\": dt_hr_ini,\n",
    "                            \"mensagens\": []\n",
    "                        }\n",
    "                    ]\n",
    "                }\n",
    "            ]\n",
    "        })\n",
    "    else:\n",
    "        # Inserir nova conversa caso o cliente já existir na base\n",
    "        assunto_existe = collection.find_one({\"cpf\": cpf, \"conversas.assunto\": assunto})\n",
    "        if not assunto_existe:\n",
    "            print(\"assunto novo\")\n",
    "            # Adicionar um novo assunto com o chat inicial\n",
    "            collection.update_one(\n",
    "                {\"cpf\": cpf},\n",
    "                {\"$push\": {\n",
    "                    \"conversas\": {\n",
    "                        \"assunto\": assunto,\n",
    "                        \"chats\": [\n",
    "                            {\n",
    "                                \"data_hora_inicio\": dt_hr_ini,\n",
    "                                \"mensagens\": []\n",
    "                            }\n",
    "                        ]\n",
    "                    }\n",
    "                }}\n",
    "            )\n",
    "        else:\n",
    "            # Adicionar um novo chat ao assunto existente\n",
    "            collection.update_one(\n",
    "                {\"cpf\": cpf, \"conversas.assunto\": assunto},\n",
    "                {\"$push\": {\n",
    "                    \"conversas.$.chats\": {\n",
    "                        \"data_hora_inicio\": dt_hr_ini,\n",
    "                        \"mensagens\": []\n",
    "                    }\n",
    "                }}\n",
    "            )\n"
   ]
  },
  {
   "cell_type": "code",
   "execution_count": 27,
   "metadata": {},
   "outputs": [],
   "source": [
    "cpf = 42006925890\n",
    "assunto = \"Reclamação\"\n",
    "dt_hr_ini = \"2024-06-27\""
   ]
  },
  {
   "cell_type": "code",
   "execution_count": 28,
   "metadata": {},
   "outputs": [],
   "source": [
    "# dados_cliente = {\n",
    "#     \"nome\": \"João da Silva\",\n",
    "#     \"email\": \"caique@gmail.com\",\n",
    "#     \"telefone\": \"11999999999\"\n",
    "# }"
   ]
  },
  {
   "cell_type": "code",
   "execution_count": 29,
   "metadata": {},
   "outputs": [],
   "source": [
    "# dados_oferta = {\n",
    "#     \"data_ref\": \"2024-06-27\",\n",
    "#     \"produto\": \"Smartphone\",\n",
    "#     \"preco\": 1500.00,\n",
    "#     \"desconto\": 100.00\n",
    "# }"
   ]
  },
  {
   "cell_type": "code",
   "execution_count": 33,
   "metadata": {},
   "outputs": [],
   "source": [
    "inserir_cliente(cpf, assunto, dt_hr_ini)"
   ]
  },
  {
   "cell_type": "code",
   "execution_count": 34,
   "metadata": {},
   "outputs": [
    {
     "name": "stdout",
     "output_type": "stream",
     "text": [
      "{\n",
      "    \"_id\": \"66857eeab339da29e9438ead\",\n",
      "    \"cpf\": 42006925890,\n",
      "    \"conversas\": [\n",
      "        {\n",
      "            \"assunto\": \"Reclamação\",\n",
      "            \"chats\": [\n",
      "                {\n",
      "                    \"data_hora_inicio\": \"2024-06-27\",\n",
      "                    \"mensagens\": []\n",
      "                }\n",
      "            ]\n",
      "        }\n",
      "    ]\n",
      "}\n"
     ]
    }
   ],
   "source": [
    "consultar_todos()\n",
    "# consultar_condicao(42006925890)"
   ]
  },
  {
   "cell_type": "code",
   "execution_count": 31,
   "metadata": {},
   "outputs": [
    {
     "data": {
      "text/plain": [
       "DeleteResult({'n': 1, 'ok': 1.0}, acknowledged=True)"
      ]
     },
     "execution_count": 31,
     "metadata": {},
     "output_type": "execute_result"
    }
   ],
   "source": [
    "collection.delete_many({})"
   ]
  },
  {
   "cell_type": "code",
   "execution_count": 35,
   "metadata": {},
   "outputs": [],
   "source": [
    "def inserir_mensagem(cpf, assunto, dt_hr_ini, dict_mensagem):\n",
    "    client, db, collection = conectar_mongo()  # Conectar ao banco de dados\n",
    "    collection.update_one(\n",
    "        {\"cpf\": cpf},\n",
    "        {\"$push\": {\"conversas.$[conversa].chats.$[chat].mensagens\": dict_mensagem}},\n",
    "        array_filters=[\n",
    "            {\"conversa.assunto\": assunto},\n",
    "            {\"chat.data_hora_inicio\": dt_hr_ini}\n",
    "        ]\n",
    "    )"
   ]
  },
  {
   "cell_type": "code",
   "execution_count": 36,
   "metadata": {},
   "outputs": [],
   "source": [
    "dict_mensagem = {\n",
    "    \"id\": 1,\n",
    "    \"data_hora\": \"2024-06-27 10:30:00\",\n",
    "    \"mensagem_cliente\": \"Iphone 24\",\n",
    "    \"sugestao_ia\": \"Esse produto não existe\",\n",
    "    \"rating_sugestao_ia\": 4,\n",
    "    \"resposta_final_operador\": \"Sr. João, o produto correto é o Iphone 15\",\n",
    "}"
   ]
  },
  {
   "cell_type": "code",
   "execution_count": 37,
   "metadata": {},
   "outputs": [
    {
     "name": "stdout",
     "output_type": "stream",
     "text": [
      "Conexão com MongoDB bem-sucedida.\n"
     ]
    }
   ],
   "source": [
    "inserir_mensagem(cpf, assunto, dt_hr_ini, dict_mensagem)"
   ]
  },
  {
   "cell_type": "code",
   "execution_count": 38,
   "metadata": {},
   "outputs": [
    {
     "name": "stdout",
     "output_type": "stream",
     "text": [
      "{\n",
      "    \"_id\": \"66857eeab339da29e9438ead\",\n",
      "    \"cpf\": 42006925890,\n",
      "    \"conversas\": [\n",
      "        {\n",
      "            \"assunto\": \"Reclamação\",\n",
      "            \"chats\": [\n",
      "                {\n",
      "                    \"data_hora_inicio\": \"2024-06-27\",\n",
      "                    \"mensagens\": [\n",
      "                        {\n",
      "                            \"id\": 1,\n",
      "                            \"data_hora\": \"2024-06-27 10:30:00\",\n",
      "                            \"mensagem_cliente\": \"Iphone 24\",\n",
      "                            \"sugestao_ia\": \"Esse produto não existe\",\n",
      "                            \"rating_sugestao_ia\": 4,\n",
      "                            \"resposta_final_operador\": \"Sr. João, o produto correto é o Iphone 15\"\n",
      "                        }\n",
      "                    ]\n",
      "                }\n",
      "            ]\n",
      "        }\n",
      "    ]\n",
      "}\n"
     ]
    }
   ],
   "source": [
    "consultar_todos()"
   ]
  },
  {
   "cell_type": "code",
   "execution_count": 41,
   "metadata": {},
   "outputs": [],
   "source": [
    "documentos = collection.find()"
   ]
  },
  {
   "cell_type": "code",
   "execution_count": 42,
   "metadata": {},
   "outputs": [
    {
     "data": {
      "text/plain": [
       "<pymongo.cursor.Cursor at 0x2cbb2691880>"
      ]
     },
     "execution_count": 42,
     "metadata": {},
     "output_type": "execute_result"
    }
   ],
   "source": [
    "documentos"
   ]
  },
  {
   "cell_type": "code",
   "execution_count": 43,
   "metadata": {},
   "outputs": [],
   "source": [
    "# Percorre os documentos para extrair as informações necessárias\n",
    "documentos = collection.find()\n",
    "conversas_lista = []\n",
    "for documento in documentos:\n",
    "    cpf = documento[\"cpf\"]\n",
    "    for conversa in documento[\"conversas\"]:\n",
    "        assunto = conversa[\"assunto\"]\n",
    "        for chat in conversa[\"chats\"]:\n",
    "            data_hora_inicio = chat[\"data_hora_inicio\"]\n",
    "            conversas_lista.append(f\"{data_hora_inicio} - {cpf} - {assunto}\")"
   ]
  },
  {
   "cell_type": "code",
   "execution_count": 44,
   "metadata": {},
   "outputs": [
    {
     "name": "stdout",
     "output_type": "stream",
     "text": [
      "2024-06-27 - 34343434343 - Reclamação\n",
      "2024-06-27 - 34343434343 - Reclamação\n",
      "2024-06-27 - 42006925890 - Reclamação\n"
     ]
    }
   ],
   "source": [
    "# Ordena a lista por data\n",
    "conversas_lista.sort()\n",
    "\n",
    "# Exibe a lista ordenada\n",
    "for conversa in conversas_lista:\n",
    "    print(conversa)"
   ]
  },
  {
   "cell_type": "code",
   "execution_count": null,
   "metadata": {},
   "outputs": [],
   "source": [
    "# Percorre o dicionário para extrair as informações necessárias\n",
    "for pessoa in dicionario:\n",
    "    cpf = pessoa[\"cpf\"]\n",
    "    for conversa in pessoa[\"conversas\"]:\n",
    "        assunto = conversa[\"assunto\"]\n",
    "        for chat in conversa[\"chats\"]:\n",
    "            data_hora_inicio = chat[\"data_hora_inicio\"]\n",
    "            conversas_lista.append(f\"{data_hora_inicio} - {cpf} - {assunto}\")\n",
    "\n",
    "# Ordena a lista por data\n",
    "conversas_lista.sort()\n",
    "\n",
    "# Exibe a lista ordenada\n",
    "for conversa in conversas_lista:\n",
    "    print(conversa)"
   ]
  },
  {
   "cell_type": "code",
   "execution_count": 2,
   "metadata": {},
   "outputs": [],
   "source": [
    "lista = [\"2024-06-27 - 42006925890 - Reclamação\", \"2024-06-27 - 42006925890 - Boleto\"]"
   ]
  },
  {
   "cell_type": "code",
   "execution_count": 4,
   "metadata": {},
   "outputs": [
    {
     "data": {
      "text/plain": [
       "['2024-06-27 - 42006925890 - Reclamação', '2024-06-27 - 42006925890 - Boleto']"
      ]
     },
     "execution_count": 4,
     "metadata": {},
     "output_type": "execute_result"
    }
   ],
   "source": [
    "lista[:]"
   ]
  },
  {
   "cell_type": "code",
   "execution_count": 49,
   "metadata": {},
   "outputs": [],
   "source": [
    "lista2 = []\n",
    "for i in lista:\n",
    "    lista2.append(i.split(\" - \"))"
   ]
  },
  {
   "cell_type": "code",
   "execution_count": 1,
   "metadata": {},
   "outputs": [
    {
     "ename": "NameError",
     "evalue": "name 'lista2' is not defined",
     "output_type": "error",
     "traceback": [
      "\u001b[1;31m---------------------------------------------------------------------------\u001b[0m",
      "\u001b[1;31mNameError\u001b[0m                                 Traceback (most recent call last)",
      "Cell \u001b[1;32mIn[1], line 1\u001b[0m\n\u001b[1;32m----> 1\u001b[0m \u001b[43mlista2\u001b[49m\n",
      "\u001b[1;31mNameError\u001b[0m: name 'lista2' is not defined"
     ]
    }
   ],
   "source": [
    "lista2"
   ]
  },
  {
   "cell_type": "markdown",
   "metadata": {},
   "source": [
    "Criando conversas fictícias para testar a sidebar"
   ]
  },
  {
   "cell_type": "code",
   "execution_count": 6,
   "metadata": {},
   "outputs": [],
   "source": [
    "posicoes_lista = []"
   ]
  },
  {
   "cell_type": "code",
   "execution_count": null,
   "metadata": {},
   "outputs": [],
   "source": []
  }
 ],
 "metadata": {
  "kernelspec": {
   "display_name": "Python 3",
   "language": "python",
   "name": "python3"
  },
  "language_info": {
   "codemirror_mode": {
    "name": "ipython",
    "version": 3
   },
   "file_extension": ".py",
   "mimetype": "text/x-python",
   "name": "python",
   "nbconvert_exporter": "python",
   "pygments_lexer": "ipython3",
   "version": "3.12.3"
  }
 },
 "nbformat": 4,
 "nbformat_minor": 2
}
